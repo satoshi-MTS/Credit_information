{
 "cells": [
  {
   "cell_type": "markdown",
   "id": "9c8c1a01-4893-479c-888b-b36f40252f3a",
   "metadata": {},
   "source": [
    "# 信用情報の学習\n",
    "# 【問題1】コンペティション内容の確認\n",
    "コンペティションのOverviewページ読み、「Home Credit Default Risk」について以下の観点について確認してください。\n",
    "\n",
    "\n",
    "- 何を学習し、何を予測するのか\n",
    "- どのようなファイルを作りKaggleに提出するか\n",
    "- 提出されたものはどういった指標値で評価されるのか"
   ]
  },
  {
   "cell_type": "markdown",
   "id": "1aac67ae-827b-45e4-b374-0708ed586725",
   "metadata": {},
   "source": [
    "### 何を学習し、何を予測するのか\n",
    "trainデータを使いmodel作成を行う  \n",
    "testデータからTAAGET変数を予測する  "
   ]
  },
  {
   "cell_type": "markdown",
   "id": "93dc0294-6ff3-41c7-a337-fd5085713044",
   "metadata": {},
   "source": [
    "### どのようなファイルを作りKaggleに提出するか\n",
    "\n",
    "IDとTARGETの2列からなるファイルを作成し、提出する"
   ]
  },
  {
   "cell_type": "markdown",
   "id": "980e3036-e02b-46e0-9549-bee669f0c8b3",
   "metadata": {},
   "source": [
    "### 提出されたものはどういった指標値で評価されるのか\n",
    "\n",
    "ROC曲線の下側(AUC)での評価となる"
   ]
  },
  {
   "cell_type": "markdown",
   "id": "82e636a0-84a3-48b7-9632-a7e5a06738bd",
   "metadata": {},
   "source": [
    "# 【問題2】学習と検証\n",
    "データを簡単に分析、前処理し、学習、検証するまでの一連の流れを作成・実行してください。\n",
    "\n",
    "\n",
    "検証にはこのコンペティションで使用される評価指標を用いるようにしてください。学習に用いる手法は指定しません。\n",
    "\n",
    "\n",
    "分析の時にいい特徴量になりそうな４つを使用してモデル作成を行う\n",
    "\n",
    "- CODE_GENDER\n",
    "- NAME_FAMILY_STATUS\n",
    "- AMT_CREDIT\n",
    "- DAYS_BIRTH"
   ]
  },
  {
   "cell_type": "code",
   "execution_count": 1,
   "id": "e3a08fb7-b2a5-4b5e-9c13-e19a5b1f6688",
   "metadata": {},
   "outputs": [],
   "source": [
    "import pandas as pd\n",
    "import numpy as np\n",
    "import matplotlib.pyplot as plt\n",
    "dataset = pd.read_csv('application_train.csv')\n",
    "df = dataset[0:10000]"
   ]
  },
  {
   "cell_type": "code",
   "execution_count": 2,
   "id": "bc1d96c3-06a0-4b2e-a7b7-d2abdbab4c74",
   "metadata": {},
   "outputs": [],
   "source": [
    "y = df['TARGET'].copy()\n",
    "x = df[['CODE_GENDER', 'NAME_FAMILY_STATUS', 'AMT_CREDIT', 'DAYS_BIRTH']].copy()\n",
    "df_test = df[['TARGET', 'CODE_GENDER', 'NAME_FAMILY_STATUS', 'AMT_CREDIT', 'DAYS_BIRTH']].copy()"
   ]
  },
  {
   "cell_type": "code",
   "execution_count": 3,
   "id": "9a0d2c87-87ef-444c-893a-77960f1d8e61",
   "metadata": {},
   "outputs": [
    {
     "name": "stdout",
     "output_type": "stream",
     "text": [
      "<class 'pandas.core.frame.DataFrame'>\n",
      "RangeIndex: 10000 entries, 0 to 9999\n",
      "Data columns (total 5 columns):\n",
      " #   Column              Non-Null Count  Dtype  \n",
      "---  ------              --------------  -----  \n",
      " 0   TARGET              10000 non-null  int64  \n",
      " 1   CODE_GENDER         10000 non-null  object \n",
      " 2   NAME_FAMILY_STATUS  10000 non-null  object \n",
      " 3   AMT_CREDIT          10000 non-null  float64\n",
      " 4   DAYS_BIRTH          10000 non-null  int64  \n",
      "dtypes: float64(1), int64(2), object(2)\n",
      "memory usage: 390.8+ KB\n"
     ]
    }
   ],
   "source": [
    "df_test.info()"
   ]
  },
  {
   "cell_type": "markdown",
   "id": "b55dd3b3-067b-432b-979d-e2228d3fd4d7",
   "metadata": {},
   "source": [
    "##  ダミー変数作成"
   ]
  },
  {
   "cell_type": "code",
   "execution_count": 4,
   "id": "419a4056-c360-401f-8287-03e8b74e782b",
   "metadata": {},
   "outputs": [
    {
     "data": {
      "text/plain": [
       "0       M\n",
       "1       F\n",
       "2       M\n",
       "3       F\n",
       "4       M\n",
       "       ..\n",
       "9995    F\n",
       "9996    F\n",
       "9997    M\n",
       "9998    F\n",
       "9999    M\n",
       "Name: CODE_GENDER, Length: 10000, dtype: object"
      ]
     },
     "execution_count": 4,
     "metadata": {},
     "output_type": "execute_result"
    }
   ],
   "source": [
    "x['CODE_GENDER'] "
   ]
  },
  {
   "cell_type": "code",
   "execution_count": 5,
   "id": "63355dd3-9127-4b49-8a99-632a5bba8c62",
   "metadata": {},
   "outputs": [],
   "source": [
    "x['CODE_GENDER'] = x['CODE_GENDER'].map({'M' : 0, 'F' : 1}).astype(int) # 性別のダミー変数\n",
    "x['NAME_FAMILY_STATUS'] = x['NAME_FAMILY_STATUS'].map({'Civil marriage' : 0, 'Married' : 1, 'Separated' : 2, 'Single / not married' : 3, 'Widow' : 4}).astype(int) # 性別のダミー変数"
   ]
  },
  {
   "cell_type": "code",
   "execution_count": 6,
   "id": "e53cb780-ca77-49fa-a367-590d19fc9740",
   "metadata": {},
   "outputs": [
    {
     "data": {
      "text/html": [
       "<div>\n",
       "<style scoped>\n",
       "    .dataframe tbody tr th:only-of-type {\n",
       "        vertical-align: middle;\n",
       "    }\n",
       "\n",
       "    .dataframe tbody tr th {\n",
       "        vertical-align: top;\n",
       "    }\n",
       "\n",
       "    .dataframe thead th {\n",
       "        text-align: right;\n",
       "    }\n",
       "</style>\n",
       "<table border=\"1\" class=\"dataframe\">\n",
       "  <thead>\n",
       "    <tr style=\"text-align: right;\">\n",
       "      <th></th>\n",
       "      <th>CODE_GENDER</th>\n",
       "      <th>NAME_FAMILY_STATUS</th>\n",
       "      <th>AMT_CREDIT</th>\n",
       "      <th>DAYS_BIRTH</th>\n",
       "    </tr>\n",
       "  </thead>\n",
       "  <tbody>\n",
       "    <tr>\n",
       "      <th>0</th>\n",
       "      <td>0</td>\n",
       "      <td>3</td>\n",
       "      <td>406597.5</td>\n",
       "      <td>-9461</td>\n",
       "    </tr>\n",
       "    <tr>\n",
       "      <th>1</th>\n",
       "      <td>1</td>\n",
       "      <td>1</td>\n",
       "      <td>1293502.5</td>\n",
       "      <td>-16765</td>\n",
       "    </tr>\n",
       "    <tr>\n",
       "      <th>2</th>\n",
       "      <td>0</td>\n",
       "      <td>3</td>\n",
       "      <td>135000.0</td>\n",
       "      <td>-19046</td>\n",
       "    </tr>\n",
       "    <tr>\n",
       "      <th>3</th>\n",
       "      <td>1</td>\n",
       "      <td>0</td>\n",
       "      <td>312682.5</td>\n",
       "      <td>-19005</td>\n",
       "    </tr>\n",
       "    <tr>\n",
       "      <th>4</th>\n",
       "      <td>0</td>\n",
       "      <td>3</td>\n",
       "      <td>513000.0</td>\n",
       "      <td>-19932</td>\n",
       "    </tr>\n",
       "  </tbody>\n",
       "</table>\n",
       "</div>"
      ],
      "text/plain": [
       "   CODE_GENDER  NAME_FAMILY_STATUS  AMT_CREDIT  DAYS_BIRTH\n",
       "0            0                   3    406597.5       -9461\n",
       "1            1                   1   1293502.5      -16765\n",
       "2            0                   3    135000.0      -19046\n",
       "3            1                   0    312682.5      -19005\n",
       "4            0                   3    513000.0      -19932"
      ]
     },
     "execution_count": 6,
     "metadata": {},
     "output_type": "execute_result"
    }
   ],
   "source": [
    "x.head()"
   ]
  },
  {
   "cell_type": "markdown",
   "id": "53d684df-f25c-4425-9302-3648d08ba576",
   "metadata": {},
   "source": [
    "## 相関図"
   ]
  },
  {
   "cell_type": "code",
   "execution_count": 7,
   "id": "79cb8452-b6dd-42d4-9e8b-d6a93534e0cc",
   "metadata": {},
   "outputs": [
    {
     "data": {
      "image/png": "[encoded data removed]",
      "text/plain": [
       "<Figure size 540x540 with 12 Axes>"
      ]
     },
     "metadata": {
      "needs_background": "light"
     },
     "output_type": "display_data"
    }
   ],
   "source": [
    "import seaborn as sns\n",
    "sns.pairplot(df_test);"
   ]
  },
  {
   "cell_type": "markdown",
   "id": "f21970e1-d85c-4c57-abfb-8c840db70bdc",
   "metadata": {},
   "source": [
    "##  データの切り分け"
   ]
  },
  {
   "cell_type": "code",
   "execution_count": 8,
   "id": "8e07a685-103a-4edc-9786-3d7a34c3f624",
   "metadata": {},
   "outputs": [],
   "source": [
    "from sklearn.model_selection import train_test_split\n",
    "x_train, x_test = train_test_split(x.values, random_state=0).copy()\n",
    "y_train, y_true = train_test_split(y.values, random_state=0).copy()"
   ]
  },
  {
   "cell_type": "markdown",
   "id": "38f90f0c-1957-4c28-bf59-53b8f9382339",
   "metadata": {},
   "source": [
    "## ベースラインモデル作成"
   ]
  },
  {
   "cell_type": "code",
   "execution_count": 9,
   "id": "346d6a3e-1a9c-433f-8a58-9ec5f138f1c2",
   "metadata": {},
   "outputs": [
    {
     "name": "stdout",
     "output_type": "stream",
     "text": [
      "[[2306    0]\n",
      " [ 194    0]]\n",
      "              precision    recall  f1-score   support\n",
      "\n",
      "           0       0.92      1.00      0.96      2306\n",
      "           1       0.00      0.00      0.00       194\n",
      "\n",
      "    accuracy                           0.92      2500\n",
      "   macro avg       0.46      0.50      0.48      2500\n",
      "weighted avg       0.85      0.92      0.89      2500\n",
      "\n"
     ]
    },
    {
     "name": "stderr",
     "output_type": "stream",
     "text": [
      "/opt/anaconda3/lib/python3.8/site-packages/sklearn/metrics/_classification.py:1245: UndefinedMetricWarning: Precision and F-score are ill-defined and being set to 0.0 in labels with no predicted samples. Use `zero_division` parameter to control this behavior.\n",
      "  _warn_prf(average, modifier, msg_start, len(result))\n",
      "/opt/anaconda3/lib/python3.8/site-packages/sklearn/metrics/_classification.py:1245: UndefinedMetricWarning: Precision and F-score are ill-defined and being set to 0.0 in labels with no predicted samples. Use `zero_division` parameter to control this behavior.\n",
      "  _warn_prf(average, modifier, msg_start, len(result))\n",
      "/opt/anaconda3/lib/python3.8/site-packages/sklearn/metrics/_classification.py:1245: UndefinedMetricWarning: Precision and F-score are ill-defined and being set to 0.0 in labels with no predicted samples. Use `zero_division` parameter to control this behavior.\n",
      "  _warn_prf(average, modifier, msg_start, len(result))\n"
     ]
    }
   ],
   "source": [
    "from sklearn.linear_model import LogisticRegression\n",
    "import sklearn.metrics as me\n",
    "from sklearn.metrics import classification_report\n",
    "\n",
    "logi = LogisticRegression()\n",
    "logi.fit(x_train, y_train)\n",
    "logi_pred = logi.predict(x_test)\n",
    "logi_confusion = me.confusion_matrix(y_true, logi_pred) \n",
    "print(logi_confusion) # 混同行列\n",
    "print(classification_report(y_true, logi_pred))"
   ]
  },
  {
   "cell_type": "code",
   "execution_count": 10,
   "id": "4d30ac98-01c4-4875-b2a4-e989ddb32dc8",
   "metadata": {},
   "outputs": [
    {
     "data": {
      "text/html": [
       "<div>\n",
       "<style scoped>\n",
       "    .dataframe tbody tr th:only-of-type {\n",
       "        vertical-align: middle;\n",
       "    }\n",
       "\n",
       "    .dataframe tbody tr th {\n",
       "        vertical-align: top;\n",
       "    }\n",
       "\n",
       "    .dataframe thead th {\n",
       "        text-align: right;\n",
       "    }\n",
       "</style>\n",
       "<table border=\"1\" class=\"dataframe\">\n",
       "  <thead>\n",
       "    <tr style=\"text-align: right;\">\n",
       "      <th></th>\n",
       "      <th>th_all</th>\n",
       "      <th>tpr_all</th>\n",
       "      <th>fpr_all</th>\n",
       "    </tr>\n",
       "  </thead>\n",
       "  <tbody>\n",
       "    <tr>\n",
       "      <th>0</th>\n",
       "      <td>1.232335</td>\n",
       "      <td>0.000000</td>\n",
       "      <td>0.000000</td>\n",
       "    </tr>\n",
       "    <tr>\n",
       "      <th>1</th>\n",
       "      <td>0.232335</td>\n",
       "      <td>0.000000</td>\n",
       "      <td>0.000434</td>\n",
       "    </tr>\n",
       "    <tr>\n",
       "      <th>2</th>\n",
       "      <td>0.230754</td>\n",
       "      <td>0.000000</td>\n",
       "      <td>0.001301</td>\n",
       "    </tr>\n",
       "    <tr>\n",
       "      <th>3</th>\n",
       "      <td>0.229561</td>\n",
       "      <td>0.005155</td>\n",
       "      <td>0.001301</td>\n",
       "    </tr>\n",
       "    <tr>\n",
       "      <th>4</th>\n",
       "      <td>0.210383</td>\n",
       "      <td>0.005155</td>\n",
       "      <td>0.012142</td>\n",
       "    </tr>\n",
       "    <tr>\n",
       "      <th>...</th>\n",
       "      <td>...</td>\n",
       "      <td>...</td>\n",
       "      <td>...</td>\n",
       "    </tr>\n",
       "    <tr>\n",
       "      <th>353</th>\n",
       "      <td>0.023893</td>\n",
       "      <td>0.989691</td>\n",
       "      <td>0.969644</td>\n",
       "    </tr>\n",
       "    <tr>\n",
       "      <th>354</th>\n",
       "      <td>0.017928</td>\n",
       "      <td>0.989691</td>\n",
       "      <td>0.996964</td>\n",
       "    </tr>\n",
       "    <tr>\n",
       "      <th>355</th>\n",
       "      <td>0.017884</td>\n",
       "      <td>0.994845</td>\n",
       "      <td>0.996964</td>\n",
       "    </tr>\n",
       "    <tr>\n",
       "      <th>356</th>\n",
       "      <td>0.014933</td>\n",
       "      <td>0.994845</td>\n",
       "      <td>1.000000</td>\n",
       "    </tr>\n",
       "    <tr>\n",
       "      <th>357</th>\n",
       "      <td>0.009563</td>\n",
       "      <td>1.000000</td>\n",
       "      <td>1.000000</td>\n",
       "    </tr>\n",
       "  </tbody>\n",
       "</table>\n",
       "<p>358 rows × 3 columns</p>\n",
       "</div>"
      ],
      "text/plain": [
       "       th_all   tpr_all   fpr_all\n",
       "0    1.232335  0.000000  0.000000\n",
       "1    0.232335  0.000000  0.000434\n",
       "2    0.230754  0.000000  0.001301\n",
       "3    0.229561  0.005155  0.001301\n",
       "4    0.210383  0.005155  0.012142\n",
       "..        ...       ...       ...\n",
       "353  0.023893  0.989691  0.969644\n",
       "354  0.017928  0.989691  0.996964\n",
       "355  0.017884  0.994845  0.996964\n",
       "356  0.014933  0.994845  1.000000\n",
       "357  0.009563  1.000000  1.000000\n",
       "\n",
       "[358 rows x 3 columns]"
      ]
     },
     "metadata": {},
     "output_type": "display_data"
    },
    {
     "name": "stdout",
     "output_type": "stream",
     "text": [
      "AUC : 0.6148863118176697\n"
     ]
    },
    {
     "data": {
      "image/png": "[encoded data removed]",
      "text/plain": [
       "<Figure size 432x288 with 1 Axes>"
      ]
     },
     "metadata": {
      "needs_background": "light"
     },
     "output_type": "display_data"
    }
   ],
   "source": [
    "from sklearn.metrics import roc_auc_score\n",
    "fpr_all, tpr_all, th_all  = me.roc_curve(y_true, logi.predict_proba(x_test)[:, 1], pos_label=1)# 正解ラベル１を1に設定、なのでみるべきなのは0を取る時の確率密度\n",
    "df_roc = pd.DataFrame({'th_all': th_all, 'tpr_all': tpr_all, 'fpr_all': fpr_all}) # 閾値、再現率(recall)、陰性を間違えて陽性と判断した場合\n",
    "plt.plot(fpr_all, tpr_all, marker='o')\n",
    "plt.xlabel('FPR: False positive rate')\n",
    "plt.ylabel('TPR: True positive rate')\n",
    "plt.grid()\n",
    "display(df_roc)\n",
    "print('AUC : {}'.format(roc_auc_score(y_true, logi.predict_proba(x_test)[:, 1])))"
   ]
  },
  {
   "cell_type": "markdown",
   "id": "62440644-f7ca-49c2-ae5e-0bde636149df",
   "metadata": {},
   "source": [
    "# 【問題4】特徴量エンジニアリング\n",
    "精度を上げるために以下のような観点で 特徴量エンジニアリング（Feature Engineering） を行ってください。\n",
    "\n",
    "\n",
    "どの特徴量を使うか\n",
    "どう前処理をするか\n",
    "\n",
    "何をした時に検証データに対する評価指標がどのようになったかをまとめてください。最低5パターンの学習・検証を行ってください。"
   ]
  },
  {
   "cell_type": "markdown",
   "id": "6093d1ef-e2c0-437f-a320-9e2006076e21",
   "metadata": {},
   "source": [
    "## 学習方法の判断\n",
    "### 近傍法"
   ]
  },
  {
   "cell_type": "code",
   "execution_count": 11,
   "id": "d05515b7-72e8-4a47-b10c-a88fc935ebb8",
   "metadata": {},
   "outputs": [
    {
     "name": "stdout",
     "output_type": "stream",
     "text": [
      "2480\n",
      "20\n"
     ]
    }
   ],
   "source": [
    "from sklearn.neighbors import KNeighborsClassifier\n",
    "neigh5 = KNeighborsClassifier(n_neighbors=5)\n",
    "neigh5.fit(x_train, y_train) # 機械に学ばせている\n",
    "KNN5_pred = neigh5.predict(x_test) # 検証データを渡して、結果を得る\n",
    "print(np.sum(KNN5_pred==0)) # pythonではTrueを1としてあつかうため合計値でいける\n",
    "print(np.sum(KNN5_pred==1))"
   ]
  },
  {
   "cell_type": "markdown",
   "id": "8435a588-89ec-41e0-97f5-a166753da8db",
   "metadata": {},
   "source": [
    "結果をみると0の割合が高すぎるのか1を表示できなかった。  \n",
    "k近傍法は目的変数の数が同じじゃないと使いづらい？？？  \n",
    "少しチューニング"
   ]
  },
  {
   "cell_type": "code",
   "execution_count": 12,
   "id": "9e7589c2-d1e6-4c66-b549-287a7d4b74a7",
   "metadata": {},
   "outputs": [
    {
     "name": "stdout",
     "output_type": "stream",
     "text": [
      "2448\n",
      "52\n"
     ]
    }
   ],
   "source": [
    "neigh3 = KNeighborsClassifier(n_neighbors=3)\n",
    "neigh3.fit(x_train, y_train) # 機械に学ばせている\n",
    "KNN3_pred = neigh3.predict(x_test) # 検証データを渡して、結果を得る\n",
    "print(np.sum(KNN3_pred==0))\n",
    "print(np.sum(KNN3_pred==1))"
   ]
  },
  {
   "cell_type": "code",
   "execution_count": 13,
   "id": "8fe7166c-ffed-4d7a-a468-8a6b8ce26cfc",
   "metadata": {},
   "outputs": [
    {
     "name": "stdout",
     "output_type": "stream",
     "text": [
      "2324\n",
      "176\n"
     ]
    }
   ],
   "source": [
    "neigh1 = KNeighborsClassifier(n_neighbors=1)\n",
    "neigh1.fit(x_train, y_train) # 機械に学ばせている\n",
    "KNN1_pred = neigh1.predict(x_test) # 検証データを渡して、結果を得る\n",
    "print(np.sum(KNN1_pred==0))\n",
    "print(np.sum(KNN1_pred==1))"
   ]
  },
  {
   "cell_type": "code",
   "execution_count": 14,
   "id": "466fb574-36c0-4ba8-8e8a-19723d07323f",
   "metadata": {},
   "outputs": [
    {
     "name": "stdout",
     "output_type": "stream",
     "text": [
      "[[2287   19]\n",
      " [ 193    1]]\n",
      "              precision    recall  f1-score   support\n",
      "\n",
      "           0       0.92      0.99      0.96      2306\n",
      "           1       0.05      0.01      0.01       194\n",
      "\n",
      "    accuracy                           0.92      2500\n",
      "   macro avg       0.49      0.50      0.48      2500\n",
      "weighted avg       0.85      0.92      0.88      2500\n",
      "\n"
     ]
    }
   ],
   "source": [
    "import sklearn.metrics as me\n",
    "from sklearn.metrics import classification_report\n",
    "knn5_confusion = me.confusion_matrix(y_true, KNN5_pred) \n",
    "print(knn5_confusion) # 混同行列\n",
    "print(classification_report(y_true, KNN5_pred))"
   ]
  },
  {
   "cell_type": "code",
   "execution_count": 15,
   "id": "52f501f6-5e71-47f8-aa58-9d2c39c3e4c5",
   "metadata": {},
   "outputs": [
    {
     "name": "stdout",
     "output_type": "stream",
     "text": [
      "[[2262   44]\n",
      " [ 186    8]]\n",
      "              precision    recall  f1-score   support\n",
      "\n",
      "           0       0.92      0.98      0.95      2306\n",
      "           1       0.15      0.04      0.07       194\n",
      "\n",
      "    accuracy                           0.91      2500\n",
      "   macro avg       0.54      0.51      0.51      2500\n",
      "weighted avg       0.86      0.91      0.88      2500\n",
      "\n"
     ]
    }
   ],
   "source": [
    "knn3_confusion = me.confusion_matrix(y_true, KNN3_pred) \n",
    "print(knn3_confusion) # 混同行列\n",
    "print(classification_report(y_true, KNN3_pred))"
   ]
  },
  {
   "cell_type": "code",
   "execution_count": 16,
   "id": "10d338d5-8750-4803-9d2d-ca75195fc32f",
   "metadata": {},
   "outputs": [
    {
     "name": "stdout",
     "output_type": "stream",
     "text": [
      "[[2148  158]\n",
      " [ 176   18]]\n",
      "              precision    recall  f1-score   support\n",
      "\n",
      "           0       0.92      0.93      0.93      2306\n",
      "           1       0.10      0.09      0.10       194\n",
      "\n",
      "    accuracy                           0.87      2500\n",
      "   macro avg       0.51      0.51      0.51      2500\n",
      "weighted avg       0.86      0.87      0.86      2500\n",
      "\n"
     ]
    }
   ],
   "source": [
    "knn1_confusion = me.confusion_matrix(y_true, KNN1_pred) \n",
    "print(knn1_confusion) # 混同行列\n",
    "print(classification_report(y_true, KNN1_pred))"
   ]
  },
  {
   "cell_type": "markdown",
   "id": "6a0858ee-df76-492c-8c90-c6c8217def7a",
   "metadata": {},
   "source": [
    "正解率は高いが、正解ラベル判断精度はかなり低い  \n",
    "正解ラベルの特徴をうまく抜き出せていない証拠"
   ]
  },
  {
   "cell_type": "code",
   "execution_count": 17,
   "id": "6d2e7c48-91f3-4f40-afb3-7061d9f1675d",
   "metadata": {},
   "outputs": [
    {
     "data": {
      "text/html": [
       "<div>\n",
       "<style scoped>\n",
       "    .dataframe tbody tr th:only-of-type {\n",
       "        vertical-align: middle;\n",
       "    }\n",
       "\n",
       "    .dataframe tbody tr th {\n",
       "        vertical-align: top;\n",
       "    }\n",
       "\n",
       "    .dataframe thead th {\n",
       "        text-align: right;\n",
       "    }\n",
       "</style>\n",
       "<table border=\"1\" class=\"dataframe\">\n",
       "  <thead>\n",
       "    <tr style=\"text-align: right;\">\n",
       "      <th></th>\n",
       "      <th>unique_name</th>\n",
       "      <th>count</th>\n",
       "    </tr>\n",
       "  </thead>\n",
       "  <tbody>\n",
       "    <tr>\n",
       "      <th>0</th>\n",
       "      <td>0.000000</td>\n",
       "      <td>1986</td>\n",
       "    </tr>\n",
       "    <tr>\n",
       "      <th>1</th>\n",
       "      <td>0.333333</td>\n",
       "      <td>462</td>\n",
       "    </tr>\n",
       "    <tr>\n",
       "      <th>2</th>\n",
       "      <td>0.666667</td>\n",
       "      <td>52</td>\n",
       "    </tr>\n",
       "  </tbody>\n",
       "</table>\n",
       "</div>"
      ],
      "text/plain": [
       "   unique_name  count\n",
       "0     0.000000   1986\n",
       "1     0.333333    462\n",
       "2     0.666667     52"
      ]
     },
     "execution_count": 17,
     "metadata": {},
     "output_type": "execute_result"
    }
   ],
   "source": [
    "unique_name, count = np.unique(neigh3.predict_proba(x_test)[:, 1], return_counts=True) # 閾値とそれを超える値を格納\n",
    "pd.DataFrame(list(zip(unique_name, count)), columns = ['unique_name','count'])"
   ]
  },
  {
   "cell_type": "markdown",
   "id": "26adde65-6501-40e3-9401-9b1562b27d3e",
   "metadata": {},
   "source": [
    "0.6時点ではかなり生き残ってる"
   ]
  },
  {
   "cell_type": "code",
   "execution_count": 18,
   "id": "e2b5a010-8c16-411f-a3f0-fd6dca7ed9e8",
   "metadata": {},
   "outputs": [
    {
     "data": {
      "text/html": [
       "<div>\n",
       "<style scoped>\n",
       "    .dataframe tbody tr th:only-of-type {\n",
       "        vertical-align: middle;\n",
       "    }\n",
       "\n",
       "    .dataframe tbody tr th {\n",
       "        vertical-align: top;\n",
       "    }\n",
       "\n",
       "    .dataframe thead th {\n",
       "        text-align: right;\n",
       "    }\n",
       "</style>\n",
       "<table border=\"1\" class=\"dataframe\">\n",
       "  <thead>\n",
       "    <tr style=\"text-align: right;\">\n",
       "      <th></th>\n",
       "      <th>th_all</th>\n",
       "      <th>tpr_all</th>\n",
       "      <th>fpr_all</th>\n",
       "    </tr>\n",
       "  </thead>\n",
       "  <tbody>\n",
       "    <tr>\n",
       "      <th>0</th>\n",
       "      <td>1.666667</td>\n",
       "      <td>0.000000</td>\n",
       "      <td>0.000000</td>\n",
       "    </tr>\n",
       "    <tr>\n",
       "      <th>1</th>\n",
       "      <td>0.666667</td>\n",
       "      <td>0.041237</td>\n",
       "      <td>0.019081</td>\n",
       "    </tr>\n",
       "    <tr>\n",
       "      <th>2</th>\n",
       "      <td>0.333333</td>\n",
       "      <td>0.247423</td>\n",
       "      <td>0.202082</td>\n",
       "    </tr>\n",
       "    <tr>\n",
       "      <th>3</th>\n",
       "      <td>0.000000</td>\n",
       "      <td>1.000000</td>\n",
       "      <td>1.000000</td>\n",
       "    </tr>\n",
       "  </tbody>\n",
       "</table>\n",
       "</div>"
      ],
      "text/plain": [
       "     th_all   tpr_all   fpr_all\n",
       "0  1.666667  0.000000  0.000000\n",
       "1  0.666667  0.041237  0.019081\n",
       "2  0.333333  0.247423  0.202082\n",
       "3  0.000000  1.000000  1.000000"
      ]
     },
     "metadata": {},
     "output_type": "display_data"
    },
    {
     "name": "stdout",
     "output_type": "stream",
     "text": [
      "AUC : 0.5244767124757468\n"
     ]
    },
    {
     "data": {
      "image/png": "[encoded data removed]",
      "text/plain": [
       "<Figure size 432x288 with 1 Axes>"
      ]
     },
     "metadata": {
      "needs_background": "light"
     },
     "output_type": "display_data"
    }
   ],
   "source": [
    "from sklearn.metrics import roc_curve\n",
    "from sklearn.metrics import roc_auc_score\n",
    "fpr_all, tpr_all, th_all  = me.roc_curve(y_true, neigh3.predict_proba(x_test)[:, 1], pos_label=1)# 正解ラベル１を1に設定、なのでみるべきなのは0を取る時の確率密度\n",
    "df_roc = pd.DataFrame({'th_all': th_all, 'tpr_all': tpr_all, 'fpr_all': fpr_all}) # 閾値、再現率(recall)、陰性を間違えて陽性と判断した場合\n",
    "plt.plot(fpr_all, tpr_all, marker='o')\n",
    "plt.xlabel('FPR: False positive rate')\n",
    "plt.ylabel('TPR: True positive rate')\n",
    "plt.grid()\n",
    "display(df_roc)\n",
    "print('AUC : {}'.format(roc_auc_score(y_true, neigh3.predict_proba(x_test)[:, 1])))"
   ]
  },
  {
   "cell_type": "markdown",
   "id": "ae79a989-b49f-439f-b58b-8cc0d750b622",
   "metadata": {},
   "source": [
    "### ランダムフォレスト"
   ]
  },
  {
   "cell_type": "code",
   "execution_count": 19,
   "id": "a5a8fe94-a835-4a37-a1d7-ad6ef3c91b2b",
   "metadata": {},
   "outputs": [
    {
     "name": "stdout",
     "output_type": "stream",
     "text": [
      "[[2283   23]\n",
      " [ 191    3]]\n",
      "              precision    recall  f1-score   support\n",
      "\n",
      "           0       0.92      0.99      0.96      2306\n",
      "           1       0.12      0.02      0.03       194\n",
      "\n",
      "    accuracy                           0.91      2500\n",
      "   macro avg       0.52      0.50      0.49      2500\n",
      "weighted avg       0.86      0.91      0.88      2500\n",
      "\n"
     ]
    }
   ],
   "source": [
    "from sklearn.ensemble import RandomForestClassifier\n",
    "clf = RandomForestClassifier()\n",
    "clf.fit(x_train, y_train)\n",
    "clf_pred = clf.predict(x_test)\n",
    "clf_confusion = me.confusion_matrix(y_true, clf_pred) \n",
    "print(clf_confusion) # 混同行列\n",
    "print(classification_report(y_true, clf_pred))"
   ]
  },
  {
   "cell_type": "code",
   "execution_count": 20,
   "id": "21b3deea-a88d-443b-a9cd-d56b98cb9a99",
   "metadata": {},
   "outputs": [
    {
     "data": {
      "text/html": [
       "<div>\n",
       "<style scoped>\n",
       "    .dataframe tbody tr th:only-of-type {\n",
       "        vertical-align: middle;\n",
       "    }\n",
       "\n",
       "    .dataframe tbody tr th {\n",
       "        vertical-align: top;\n",
       "    }\n",
       "\n",
       "    .dataframe thead th {\n",
       "        text-align: right;\n",
       "    }\n",
       "</style>\n",
       "<table border=\"1\" class=\"dataframe\">\n",
       "  <thead>\n",
       "    <tr style=\"text-align: right;\">\n",
       "      <th></th>\n",
       "      <th>unique_name</th>\n",
       "      <th>count</th>\n",
       "    </tr>\n",
       "  </thead>\n",
       "  <tbody>\n",
       "    <tr>\n",
       "      <th>0</th>\n",
       "      <td>0.0000</td>\n",
       "      <td>544</td>\n",
       "    </tr>\n",
       "    <tr>\n",
       "      <th>1</th>\n",
       "      <td>0.0025</td>\n",
       "      <td>1</td>\n",
       "    </tr>\n",
       "    <tr>\n",
       "      <th>2</th>\n",
       "      <td>0.0100</td>\n",
       "      <td>308</td>\n",
       "    </tr>\n",
       "    <tr>\n",
       "      <th>3</th>\n",
       "      <td>0.0150</td>\n",
       "      <td>1</td>\n",
       "    </tr>\n",
       "    <tr>\n",
       "      <th>4</th>\n",
       "      <td>0.0200</td>\n",
       "      <td>228</td>\n",
       "    </tr>\n",
       "    <tr>\n",
       "      <th>...</th>\n",
       "      <td>...</td>\n",
       "      <td>...</td>\n",
       "    </tr>\n",
       "    <tr>\n",
       "      <th>75</th>\n",
       "      <td>0.6500</td>\n",
       "      <td>1</td>\n",
       "    </tr>\n",
       "    <tr>\n",
       "      <th>76</th>\n",
       "      <td>0.6800</td>\n",
       "      <td>1</td>\n",
       "    </tr>\n",
       "    <tr>\n",
       "      <th>77</th>\n",
       "      <td>0.6900</td>\n",
       "      <td>2</td>\n",
       "    </tr>\n",
       "    <tr>\n",
       "      <th>78</th>\n",
       "      <td>0.7500</td>\n",
       "      <td>1</td>\n",
       "    </tr>\n",
       "    <tr>\n",
       "      <th>79</th>\n",
       "      <td>0.7600</td>\n",
       "      <td>1</td>\n",
       "    </tr>\n",
       "  </tbody>\n",
       "</table>\n",
       "<p>80 rows × 2 columns</p>\n",
       "</div>"
      ],
      "text/plain": [
       "    unique_name  count\n",
       "0        0.0000    544\n",
       "1        0.0025      1\n",
       "2        0.0100    308\n",
       "3        0.0150      1\n",
       "4        0.0200    228\n",
       "..          ...    ...\n",
       "75       0.6500      1\n",
       "76       0.6800      1\n",
       "77       0.6900      2\n",
       "78       0.7500      1\n",
       "79       0.7600      1\n",
       "\n",
       "[80 rows x 2 columns]"
      ]
     },
     "execution_count": 20,
     "metadata": {},
     "output_type": "execute_result"
    }
   ],
   "source": [
    "unique_name, count = np.unique(clf.predict_proba(x_test)[:, 1], return_counts=True) # 正解ラベル１を取る確率関数\n",
    "pd.DataFrame(list(zip(unique_name, count)), columns = ['unique_name','count'])"
   ]
  },
  {
   "cell_type": "code",
   "execution_count": 21,
   "id": "96a0a5e7-cc5c-44b9-9132-9d4b40f7c2d0",
   "metadata": {},
   "outputs": [
    {
     "data": {
      "text/html": [
       "<div>\n",
       "<style scoped>\n",
       "    .dataframe tbody tr th:only-of-type {\n",
       "        vertical-align: middle;\n",
       "    }\n",
       "\n",
       "    .dataframe tbody tr th {\n",
       "        vertical-align: top;\n",
       "    }\n",
       "\n",
       "    .dataframe thead th {\n",
       "        text-align: right;\n",
       "    }\n",
       "</style>\n",
       "<table border=\"1\" class=\"dataframe\">\n",
       "  <thead>\n",
       "    <tr style=\"text-align: right;\">\n",
       "      <th></th>\n",
       "      <th>th_all</th>\n",
       "      <th>tpr_all</th>\n",
       "      <th>fpr_all</th>\n",
       "    </tr>\n",
       "  </thead>\n",
       "  <tbody>\n",
       "    <tr>\n",
       "      <th>0</th>\n",
       "      <td>1.7600</td>\n",
       "      <td>0.000000</td>\n",
       "      <td>0.000000</td>\n",
       "    </tr>\n",
       "    <tr>\n",
       "      <th>1</th>\n",
       "      <td>0.7600</td>\n",
       "      <td>0.000000</td>\n",
       "      <td>0.000434</td>\n",
       "    </tr>\n",
       "    <tr>\n",
       "      <th>2</th>\n",
       "      <td>0.7500</td>\n",
       "      <td>0.000000</td>\n",
       "      <td>0.000867</td>\n",
       "    </tr>\n",
       "    <tr>\n",
       "      <th>3</th>\n",
       "      <td>0.6900</td>\n",
       "      <td>0.005155</td>\n",
       "      <td>0.001301</td>\n",
       "    </tr>\n",
       "    <tr>\n",
       "      <th>4</th>\n",
       "      <td>0.6300</td>\n",
       "      <td>0.005155</td>\n",
       "      <td>0.003036</td>\n",
       "    </tr>\n",
       "    <tr>\n",
       "      <th>...</th>\n",
       "      <td>...</td>\n",
       "      <td>...</td>\n",
       "      <td>...</td>\n",
       "    </tr>\n",
       "    <tr>\n",
       "      <th>67</th>\n",
       "      <td>0.0200</td>\n",
       "      <td>0.711340</td>\n",
       "      <td>0.653946</td>\n",
       "    </tr>\n",
       "    <tr>\n",
       "      <th>68</th>\n",
       "      <td>0.0150</td>\n",
       "      <td>0.711340</td>\n",
       "      <td>0.654380</td>\n",
       "    </tr>\n",
       "    <tr>\n",
       "      <th>69</th>\n",
       "      <td>0.0100</td>\n",
       "      <td>0.793814</td>\n",
       "      <td>0.781006</td>\n",
       "    </tr>\n",
       "    <tr>\n",
       "      <th>70</th>\n",
       "      <td>0.0025</td>\n",
       "      <td>0.793814</td>\n",
       "      <td>0.781440</td>\n",
       "    </tr>\n",
       "    <tr>\n",
       "      <th>71</th>\n",
       "      <td>0.0000</td>\n",
       "      <td>1.000000</td>\n",
       "      <td>1.000000</td>\n",
       "    </tr>\n",
       "  </tbody>\n",
       "</table>\n",
       "<p>72 rows × 3 columns</p>\n",
       "</div>"
      ],
      "text/plain": [
       "    th_all   tpr_all   fpr_all\n",
       "0   1.7600  0.000000  0.000000\n",
       "1   0.7600  0.000000  0.000434\n",
       "2   0.7500  0.000000  0.000867\n",
       "3   0.6900  0.005155  0.001301\n",
       "4   0.6300  0.005155  0.003036\n",
       "..     ...       ...       ...\n",
       "67  0.0200  0.711340  0.653946\n",
       "68  0.0150  0.711340  0.654380\n",
       "69  0.0100  0.793814  0.781006\n",
       "70  0.0025  0.793814  0.781440\n",
       "71  0.0000  1.000000  1.000000\n",
       "\n",
       "[72 rows x 3 columns]"
      ]
     },
     "metadata": {},
     "output_type": "display_data"
    },
    {
     "name": "stdout",
     "output_type": "stream",
     "text": [
      "AUC : 0.5419322967426972\n"
     ]
    },
    {
     "data": {
      "image/png": "[encoded data removed]",
      "text/plain": [
       "<Figure size 432x288 with 1 Axes>"
      ]
     },
     "metadata": {
      "needs_background": "light"
     },
     "output_type": "display_data"
    }
   ],
   "source": [
    "fpr_all, tpr_all, th_all  = me.roc_curve(y_true, clf.predict_proba(x_test)[:, 1], pos_label=1)# 正解ラベル１を1に設定、なのでみるべきなのは0を取る時の確率密度\n",
    "df_roc = pd.DataFrame({'th_all': th_all, 'tpr_all': tpr_all, 'fpr_all': fpr_all}) # 閾値、再現率(recall)、陰性を間違えて陽性と判断した場合\n",
    "plt.plot(fpr_all, tpr_all, marker='o')\n",
    "plt.xlabel('FPR: False positive rate')\n",
    "plt.ylabel('TPR: True positive rate')\n",
    "plt.grid()\n",
    "display(df_roc)\n",
    "print('AUC : {}'.format(roc_auc_score(y_true, clf.predict_proba(x_test)[:, 1])))"
   ]
  },
  {
   "cell_type": "markdown",
   "id": "9e4c3a38-01d2-4ecd-b291-a1fd3ecc4d3c",
   "metadata": {},
   "source": [
    "ランダムフォレストの場合デフォルトでサンプリングを100回行うので確率分布はかなり細かくなる。  \n",
    "そのパラメータを変更すると..."
   ]
  },
  {
   "cell_type": "code",
   "execution_count": 22,
   "id": "d2889f18-e91d-4861-81d1-bbf00201969d",
   "metadata": {},
   "outputs": [
    {
     "name": "stdout",
     "output_type": "stream",
     "text": [
      "[[2278   28]\n",
      " [ 192    2]]\n",
      "              precision    recall  f1-score   support\n",
      "\n",
      "           0       0.92      0.99      0.95      2306\n",
      "           1       0.07      0.01      0.02       194\n",
      "\n",
      "    accuracy                           0.91      2500\n",
      "   macro avg       0.49      0.50      0.49      2500\n",
      "weighted avg       0.86      0.91      0.88      2500\n",
      "\n"
     ]
    }
   ],
   "source": [
    "clf_1000 = RandomForestClassifier(n_estimators=1000)\n",
    "clf_1000.fit(x_train, y_train)\n",
    "clf_1000_pred = clf_1000.predict(x_test)\n",
    "clf_1000_confusion = me.confusion_matrix(y_true, clf_1000_pred) \n",
    "print(clf_1000_confusion) # 混同行列\n",
    "print(classification_report(y_true, clf_1000_pred))"
   ]
  },
  {
   "cell_type": "code",
   "execution_count": 23,
   "id": "e72ba54a-0b1c-434a-b21e-ea8e71894c60",
   "metadata": {},
   "outputs": [
    {
     "data": {
      "text/html": [
       "<div>\n",
       "<style scoped>\n",
       "    .dataframe tbody tr th:only-of-type {\n",
       "        vertical-align: middle;\n",
       "    }\n",
       "\n",
       "    .dataframe tbody tr th {\n",
       "        vertical-align: top;\n",
       "    }\n",
       "\n",
       "    .dataframe thead th {\n",
       "        text-align: right;\n",
       "    }\n",
       "</style>\n",
       "<table border=\"1\" class=\"dataframe\">\n",
       "  <thead>\n",
       "    <tr style=\"text-align: right;\">\n",
       "      <th></th>\n",
       "      <th>th_all</th>\n",
       "      <th>tpr_all</th>\n",
       "      <th>fpr_all</th>\n",
       "    </tr>\n",
       "  </thead>\n",
       "  <tbody>\n",
       "    <tr>\n",
       "      <th>0</th>\n",
       "      <td>1.70500</td>\n",
       "      <td>0.000000</td>\n",
       "      <td>0.000000</td>\n",
       "    </tr>\n",
       "    <tr>\n",
       "      <th>1</th>\n",
       "      <td>0.70500</td>\n",
       "      <td>0.000000</td>\n",
       "      <td>0.000434</td>\n",
       "    </tr>\n",
       "    <tr>\n",
       "      <th>2</th>\n",
       "      <td>0.64400</td>\n",
       "      <td>0.000000</td>\n",
       "      <td>0.003036</td>\n",
       "    </tr>\n",
       "    <tr>\n",
       "      <th>3</th>\n",
       "      <td>0.64100</td>\n",
       "      <td>0.005155</td>\n",
       "      <td>0.003036</td>\n",
       "    </tr>\n",
       "    <tr>\n",
       "      <th>4</th>\n",
       "      <td>0.54500</td>\n",
       "      <td>0.005155</td>\n",
       "      <td>0.009974</td>\n",
       "    </tr>\n",
       "    <tr>\n",
       "      <th>...</th>\n",
       "      <td>...</td>\n",
       "      <td>...</td>\n",
       "      <td>...</td>\n",
       "    </tr>\n",
       "    <tr>\n",
       "      <th>318</th>\n",
       "      <td>0.00300</td>\n",
       "      <td>0.891753</td>\n",
       "      <td>0.874241</td>\n",
       "    </tr>\n",
       "    <tr>\n",
       "      <th>319</th>\n",
       "      <td>0.00275</td>\n",
       "      <td>0.891753</td>\n",
       "      <td>0.874675</td>\n",
       "    </tr>\n",
       "    <tr>\n",
       "      <th>320</th>\n",
       "      <td>0.00200</td>\n",
       "      <td>0.927835</td>\n",
       "      <td>0.903729</td>\n",
       "    </tr>\n",
       "    <tr>\n",
       "      <th>321</th>\n",
       "      <td>0.00100</td>\n",
       "      <td>0.963918</td>\n",
       "      <td>0.943625</td>\n",
       "    </tr>\n",
       "    <tr>\n",
       "      <th>322</th>\n",
       "      <td>0.00000</td>\n",
       "      <td>1.000000</td>\n",
       "      <td>1.000000</td>\n",
       "    </tr>\n",
       "  </tbody>\n",
       "</table>\n",
       "<p>323 rows × 3 columns</p>\n",
       "</div>"
      ],
      "text/plain": [
       "      th_all   tpr_all   fpr_all\n",
       "0    1.70500  0.000000  0.000000\n",
       "1    0.70500  0.000000  0.000434\n",
       "2    0.64400  0.000000  0.003036\n",
       "3    0.64100  0.005155  0.003036\n",
       "4    0.54500  0.005155  0.009974\n",
       "..       ...       ...       ...\n",
       "318  0.00300  0.891753  0.874241\n",
       "319  0.00275  0.891753  0.874675\n",
       "320  0.00200  0.927835  0.903729\n",
       "321  0.00100  0.963918  0.943625\n",
       "322  0.00000  1.000000  1.000000\n",
       "\n",
       "[323 rows x 3 columns]"
      ]
     },
     "metadata": {},
     "output_type": "display_data"
    },
    {
     "name": "stdout",
     "output_type": "stream",
     "text": [
      "AUC : 0.5525388721488542\n"
     ]
    },
    {
     "data": {
      "image/png": "[encoded data removed]",
      "text/plain": [
       "<Figure size 432x288 with 1 Axes>"
      ]
     },
     "metadata": {
      "needs_background": "light"
     },
     "output_type": "display_data"
    }
   ],
   "source": [
    "fpr_all, tpr_all, th_all  = me.roc_curve(y_true, clf_1000.predict_proba(x_test)[:, 1], pos_label=1)# 正解ラベル１を1に設定、なのでみるべきなのは0を取る時の確率密度\n",
    "df_roc = pd.DataFrame({'th_all': th_all, 'tpr_all': tpr_all, 'fpr_all': fpr_all}) # 閾値、再現率(recall)、陰性を間違えて陽性と判断した場合\n",
    "plt.plot(fpr_all, tpr_all, marker='o')\n",
    "plt.xlabel('FPR: False positive rate')\n",
    "plt.ylabel('TPR: True positive rate')\n",
    "plt.grid()\n",
    "display(df_roc)\n",
    "print('AUC : {}'.format(roc_auc_score(y_true, clf_1000.predict_proba(x_test)[:, 1])))"
   ]
  },
  {
   "cell_type": "markdown",
   "id": "b634b987-f4b3-46fd-a002-bcf982f3a291",
   "metadata": {},
   "source": [
    "おおむね予想通りの結果出力となった。"
   ]
  },
  {
   "cell_type": "markdown",
   "id": "fad7e595-4009-4389-9336-aea2aa0bf034",
   "metadata": {},
   "source": [
    "### 決定木"
   ]
  },
  {
   "cell_type": "code",
   "execution_count": 24,
   "id": "a8d44b3f-c6e7-494e-aaaf-ce06c8c04979",
   "metadata": {},
   "outputs": [
    {
     "name": "stdout",
     "output_type": "stream",
     "text": [
      "[[2121  185]\n",
      " [ 175   19]]\n",
      "              precision    recall  f1-score   support\n",
      "\n",
      "           0       0.92      0.92      0.92      2306\n",
      "           1       0.09      0.10      0.10       194\n",
      "\n",
      "    accuracy                           0.86      2500\n",
      "   macro avg       0.51      0.51      0.51      2500\n",
      "weighted avg       0.86      0.86      0.86      2500\n",
      "\n"
     ]
    }
   ],
   "source": [
    "from sklearn.tree import DecisionTreeClassifier\n",
    "dtc = DecisionTreeClassifier()\n",
    "dtc.fit(x_train, y_train)\n",
    "dtc_pred = dtc.predict(x_test)\n",
    "dtc_confusion = me.confusion_matrix(y_true, dtc_pred) \n",
    "print(dtc_confusion) # 混同行列\n",
    "print(classification_report(y_true, dtc_pred))"
   ]
  },
  {
   "cell_type": "code",
   "execution_count": 25,
   "id": "d1692bad-212f-4668-a1e3-ac6ed4b9d9ff",
   "metadata": {},
   "outputs": [
    {
     "data": {
      "text/html": [
       "<div>\n",
       "<style scoped>\n",
       "    .dataframe tbody tr th:only-of-type {\n",
       "        vertical-align: middle;\n",
       "    }\n",
       "\n",
       "    .dataframe tbody tr th {\n",
       "        vertical-align: top;\n",
       "    }\n",
       "\n",
       "    .dataframe thead th {\n",
       "        text-align: right;\n",
       "    }\n",
       "</style>\n",
       "<table border=\"1\" class=\"dataframe\">\n",
       "  <thead>\n",
       "    <tr style=\"text-align: right;\">\n",
       "      <th></th>\n",
       "      <th>unique_name</th>\n",
       "      <th>count</th>\n",
       "    </tr>\n",
       "  </thead>\n",
       "  <tbody>\n",
       "    <tr>\n",
       "      <th>0</th>\n",
       "      <td>0.0</td>\n",
       "      <td>2294</td>\n",
       "    </tr>\n",
       "    <tr>\n",
       "      <th>1</th>\n",
       "      <td>0.5</td>\n",
       "      <td>2</td>\n",
       "    </tr>\n",
       "    <tr>\n",
       "      <th>2</th>\n",
       "      <td>1.0</td>\n",
       "      <td>204</td>\n",
       "    </tr>\n",
       "  </tbody>\n",
       "</table>\n",
       "</div>"
      ],
      "text/plain": [
       "   unique_name  count\n",
       "0          0.0   2294\n",
       "1          0.5      2\n",
       "2          1.0    204"
      ]
     },
     "execution_count": 25,
     "metadata": {},
     "output_type": "execute_result"
    }
   ],
   "source": [
    "unique_name, count = np.unique(dtc.predict_proba(x_test)[:, 1], return_counts=True) # 閾値とそれを超える値を格納\n",
    "pd.DataFrame(list(zip(unique_name, count)), columns = ['unique_name','count'])"
   ]
  },
  {
   "cell_type": "markdown",
   "id": "10dcfc16-60a2-4337-84a2-e047340ed2ba",
   "metadata": {},
   "source": [
    "おもってた結果には全くならなかった  \n",
    "0.5で2個1で190個ってどういう意味なんだろうか  \n",
    "そしたら190がTPで出力されそうなものだが  \n",
    "決定木の場合閾値で判断してない説"
   ]
  },
  {
   "cell_type": "code",
   "execution_count": 26,
   "id": "eee4f20d-5183-4dd4-bb1d-b092b9379d64",
   "metadata": {},
   "outputs": [
    {
     "data": {
      "text/html": [
       "<div>\n",
       "<style scoped>\n",
       "    .dataframe tbody tr th:only-of-type {\n",
       "        vertical-align: middle;\n",
       "    }\n",
       "\n",
       "    .dataframe tbody tr th {\n",
       "        vertical-align: top;\n",
       "    }\n",
       "\n",
       "    .dataframe thead th {\n",
       "        text-align: right;\n",
       "    }\n",
       "</style>\n",
       "<table border=\"1\" class=\"dataframe\">\n",
       "  <thead>\n",
       "    <tr style=\"text-align: right;\">\n",
       "      <th></th>\n",
       "      <th>th_all</th>\n",
       "      <th>tpr_all</th>\n",
       "      <th>fpr_all</th>\n",
       "    </tr>\n",
       "  </thead>\n",
       "  <tbody>\n",
       "    <tr>\n",
       "      <th>0</th>\n",
       "      <td>2.0</td>\n",
       "      <td>0.000000</td>\n",
       "      <td>0.000000</td>\n",
       "    </tr>\n",
       "    <tr>\n",
       "      <th>1</th>\n",
       "      <td>1.0</td>\n",
       "      <td>0.097938</td>\n",
       "      <td>0.080225</td>\n",
       "    </tr>\n",
       "    <tr>\n",
       "      <th>2</th>\n",
       "      <td>0.5</td>\n",
       "      <td>0.097938</td>\n",
       "      <td>0.081093</td>\n",
       "    </tr>\n",
       "    <tr>\n",
       "      <th>3</th>\n",
       "      <td>0.0</td>\n",
       "      <td>1.000000</td>\n",
       "      <td>1.000000</td>\n",
       "    </tr>\n",
       "  </tbody>\n",
       "</table>\n",
       "</div>"
      ],
      "text/plain": [
       "   th_all   tpr_all   fpr_all\n",
       "0     2.0  0.000000  0.000000\n",
       "1     1.0  0.097938  0.080225\n",
       "2     0.5  0.097938  0.081093\n",
       "3     0.0  1.000000  1.000000"
      ]
     },
     "metadata": {},
     "output_type": "display_data"
    },
    {
     "name": "stdout",
     "output_type": "stream",
     "text": [
      "AUC : 0.5084651424790552\n"
     ]
    },
    {
     "data": {
      "image/png": "[encoded data removed]",
      "text/plain": [
       "<Figure size 432x288 with 1 Axes>"
      ]
     },
     "metadata": {
      "needs_background": "light"
     },
     "output_type": "display_data"
    }
   ],
   "source": [
    "fpr_all, tpr_all, th_all  = me.roc_curve(y_true, dtc.predict_proba(x_test)[:, 1], pos_label=1)# 正解ラベル１を1に設定、なのでみるべきなのは0を取る時の確率密度\n",
    "df_roc = pd.DataFrame({'th_all': th_all, 'tpr_all': tpr_all, 'fpr_all': fpr_all}) # 閾値、再現率(recall)、陰性を間違えて陽性と判断した場合\n",
    "plt.plot(fpr_all, tpr_all, marker='o')\n",
    "plt.xlabel('FPR: False positive rate')\n",
    "plt.ylabel('TPR: True positive rate')\n",
    "plt.grid()\n",
    "display(df_roc)\n",
    "print('AUC : {}'.format(roc_auc_score(y_true, dtc.predict_proba(x_test)[:, 1])))"
   ]
  },
  {
   "cell_type": "markdown",
   "id": "00e660d5-a259-4c91-a8fe-a584584409c1",
   "metadata": {},
   "source": [
    "### SVC"
   ]
  },
  {
   "cell_type": "code",
   "execution_count": 27,
   "id": "e1d9fdbd-2340-4357-bfb9-3c89ced6a678",
   "metadata": {},
   "outputs": [
    {
     "name": "stdout",
     "output_type": "stream",
     "text": [
      "[[2306    0]\n",
      " [ 194    0]]\n",
      "              precision    recall  f1-score   support\n",
      "\n",
      "           0       0.92      1.00      0.96      2306\n",
      "           1       0.00      0.00      0.00       194\n",
      "\n",
      "    accuracy                           0.92      2500\n",
      "   macro avg       0.46      0.50      0.48      2500\n",
      "weighted avg       0.85      0.92      0.89      2500\n",
      "\n"
     ]
    },
    {
     "name": "stderr",
     "output_type": "stream",
     "text": [
      "/opt/anaconda3/lib/python3.8/site-packages/sklearn/metrics/_classification.py:1245: UndefinedMetricWarning: Precision and F-score are ill-defined and being set to 0.0 in labels with no predicted samples. Use `zero_division` parameter to control this behavior.\n",
      "  _warn_prf(average, modifier, msg_start, len(result))\n",
      "/opt/anaconda3/lib/python3.8/site-packages/sklearn/metrics/_classification.py:1245: UndefinedMetricWarning: Precision and F-score are ill-defined and being set to 0.0 in labels with no predicted samples. Use `zero_division` parameter to control this behavior.\n",
      "  _warn_prf(average, modifier, msg_start, len(result))\n",
      "/opt/anaconda3/lib/python3.8/site-packages/sklearn/metrics/_classification.py:1245: UndefinedMetricWarning: Precision and F-score are ill-defined and being set to 0.0 in labels with no predicted samples. Use `zero_division` parameter to control this behavior.\n",
      "  _warn_prf(average, modifier, msg_start, len(result))\n"
     ]
    }
   ],
   "source": [
    "from sklearn.svm import SVC\n",
    "svc = SVC(probability=True) # probabilityで確率出力\n",
    "svc.fit(x_train, y_train)\n",
    "svc_pred = svc.predict(x_test)\n",
    "svc_confusion = me.confusion_matrix(y_true, svc_pred) \n",
    "print(svc_confusion) # 混同行列\n",
    "print(classification_report(y_true, svc_pred))"
   ]
  },
  {
   "cell_type": "code",
   "execution_count": 28,
   "id": "34d9188b-f816-4e75-9b08-fdeb0704cd6c",
   "metadata": {},
   "outputs": [
    {
     "data": {
      "text/html": [
       "<div>\n",
       "<style scoped>\n",
       "    .dataframe tbody tr th:only-of-type {\n",
       "        vertical-align: middle;\n",
       "    }\n",
       "\n",
       "    .dataframe tbody tr th {\n",
       "        vertical-align: top;\n",
       "    }\n",
       "\n",
       "    .dataframe thead th {\n",
       "        text-align: right;\n",
       "    }\n",
       "</style>\n",
       "<table border=\"1\" class=\"dataframe\">\n",
       "  <thead>\n",
       "    <tr style=\"text-align: right;\">\n",
       "      <th></th>\n",
       "      <th>unique_name</th>\n",
       "      <th>count</th>\n",
       "    </tr>\n",
       "  </thead>\n",
       "  <tbody>\n",
       "    <tr>\n",
       "      <th>0</th>\n",
       "      <td>0.071552</td>\n",
       "      <td>1</td>\n",
       "    </tr>\n",
       "    <tr>\n",
       "      <th>1</th>\n",
       "      <td>0.071552</td>\n",
       "      <td>1</td>\n",
       "    </tr>\n",
       "    <tr>\n",
       "      <th>2</th>\n",
       "      <td>0.071552</td>\n",
       "      <td>1</td>\n",
       "    </tr>\n",
       "    <tr>\n",
       "      <th>3</th>\n",
       "      <td>0.071552</td>\n",
       "      <td>1</td>\n",
       "    </tr>\n",
       "    <tr>\n",
       "      <th>4</th>\n",
       "      <td>0.071553</td>\n",
       "      <td>1</td>\n",
       "    </tr>\n",
       "    <tr>\n",
       "      <th>...</th>\n",
       "      <td>...</td>\n",
       "      <td>...</td>\n",
       "    </tr>\n",
       "    <tr>\n",
       "      <th>2495</th>\n",
       "      <td>0.231705</td>\n",
       "      <td>1</td>\n",
       "    </tr>\n",
       "    <tr>\n",
       "      <th>2496</th>\n",
       "      <td>0.277758</td>\n",
       "      <td>1</td>\n",
       "    </tr>\n",
       "    <tr>\n",
       "      <th>2497</th>\n",
       "      <td>0.277998</td>\n",
       "      <td>1</td>\n",
       "    </tr>\n",
       "    <tr>\n",
       "      <th>2498</th>\n",
       "      <td>0.400279</td>\n",
       "      <td>1</td>\n",
       "    </tr>\n",
       "    <tr>\n",
       "      <th>2499</th>\n",
       "      <td>0.509128</td>\n",
       "      <td>1</td>\n",
       "    </tr>\n",
       "  </tbody>\n",
       "</table>\n",
       "<p>2500 rows × 2 columns</p>\n",
       "</div>"
      ],
      "text/plain": [
       "      unique_name  count\n",
       "0        0.071552      1\n",
       "1        0.071552      1\n",
       "2        0.071552      1\n",
       "3        0.071552      1\n",
       "4        0.071553      1\n",
       "...           ...    ...\n",
       "2495     0.231705      1\n",
       "2496     0.277758      1\n",
       "2497     0.277998      1\n",
       "2498     0.400279      1\n",
       "2499     0.509128      1\n",
       "\n",
       "[2500 rows x 2 columns]"
      ]
     },
     "execution_count": 28,
     "metadata": {},
     "output_type": "execute_result"
    }
   ],
   "source": [
    "unique_name, count = np.unique(svc.predict_proba(x_test)[:, 1], return_counts=True) # 閾値とそれを超える値を格納\n",
    "pd.DataFrame(list(zip(unique_name, count)), columns = ['unique_name','count'])"
   ]
  },
  {
   "cell_type": "markdown",
   "id": "a341a54b-636a-4832-bc82-acac5eb9f912",
   "metadata": {},
   "source": [
    "各データに対して　1を取る確率"
   ]
  },
  {
   "cell_type": "code",
   "execution_count": 29,
   "id": "91d119b5-9698-45fc-9b39-0ac7f3bf54fa",
   "metadata": {},
   "outputs": [
    {
     "data": {
      "text/html": [
       "<div>\n",
       "<style scoped>\n",
       "    .dataframe tbody tr th:only-of-type {\n",
       "        vertical-align: middle;\n",
       "    }\n",
       "\n",
       "    .dataframe tbody tr th {\n",
       "        vertical-align: top;\n",
       "    }\n",
       "\n",
       "    .dataframe thead th {\n",
       "        text-align: right;\n",
       "    }\n",
       "</style>\n",
       "<table border=\"1\" class=\"dataframe\">\n",
       "  <thead>\n",
       "    <tr style=\"text-align: right;\">\n",
       "      <th></th>\n",
       "      <th>th_all</th>\n",
       "      <th>tpr_all</th>\n",
       "      <th>fpr_all</th>\n",
       "    </tr>\n",
       "  </thead>\n",
       "  <tbody>\n",
       "    <tr>\n",
       "      <th>0</th>\n",
       "      <td>1.509128</td>\n",
       "      <td>0.000000</td>\n",
       "      <td>0.000000</td>\n",
       "    </tr>\n",
       "    <tr>\n",
       "      <th>1</th>\n",
       "      <td>0.509128</td>\n",
       "      <td>0.005155</td>\n",
       "      <td>0.000000</td>\n",
       "    </tr>\n",
       "    <tr>\n",
       "      <th>2</th>\n",
       "      <td>0.085847</td>\n",
       "      <td>0.005155</td>\n",
       "      <td>0.006071</td>\n",
       "    </tr>\n",
       "    <tr>\n",
       "      <th>3</th>\n",
       "      <td>0.085838</td>\n",
       "      <td>0.010309</td>\n",
       "      <td>0.006071</td>\n",
       "    </tr>\n",
       "    <tr>\n",
       "      <th>4</th>\n",
       "      <td>0.085174</td>\n",
       "      <td>0.010309</td>\n",
       "      <td>0.012142</td>\n",
       "    </tr>\n",
       "    <tr>\n",
       "      <th>...</th>\n",
       "      <td>...</td>\n",
       "      <td>...</td>\n",
       "      <td>...</td>\n",
       "    </tr>\n",
       "    <tr>\n",
       "      <th>348</th>\n",
       "      <td>0.071617</td>\n",
       "      <td>0.989691</td>\n",
       "      <td>0.981787</td>\n",
       "    </tr>\n",
       "    <tr>\n",
       "      <th>349</th>\n",
       "      <td>0.071612</td>\n",
       "      <td>0.994845</td>\n",
       "      <td>0.981787</td>\n",
       "    </tr>\n",
       "    <tr>\n",
       "      <th>350</th>\n",
       "      <td>0.071553</td>\n",
       "      <td>0.994845</td>\n",
       "      <td>0.997398</td>\n",
       "    </tr>\n",
       "    <tr>\n",
       "      <th>351</th>\n",
       "      <td>0.071553</td>\n",
       "      <td>1.000000</td>\n",
       "      <td>0.997398</td>\n",
       "    </tr>\n",
       "    <tr>\n",
       "      <th>352</th>\n",
       "      <td>0.071552</td>\n",
       "      <td>1.000000</td>\n",
       "      <td>1.000000</td>\n",
       "    </tr>\n",
       "  </tbody>\n",
       "</table>\n",
       "<p>353 rows × 3 columns</p>\n",
       "</div>"
      ],
      "text/plain": [
       "       th_all   tpr_all   fpr_all\n",
       "0    1.509128  0.000000  0.000000\n",
       "1    0.509128  0.005155  0.000000\n",
       "2    0.085847  0.005155  0.006071\n",
       "3    0.085838  0.010309  0.006071\n",
       "4    0.085174  0.010309  0.012142\n",
       "..        ...       ...       ...\n",
       "348  0.071617  0.989691  0.981787\n",
       "349  0.071612  0.994845  0.981787\n",
       "350  0.071553  0.994845  0.997398\n",
       "351  0.071553  1.000000  0.997398\n",
       "352  0.071552  1.000000  1.000000\n",
       "\n",
       "[353 rows x 3 columns]"
      ]
     },
     "metadata": {},
     "output_type": "display_data"
    },
    {
     "name": "stdout",
     "output_type": "stream",
     "text": [
      "AUC : 0.5032836795093034\n"
     ]
    },
    {
     "data": {
      "image/png": "[encoded data removed]",
      "text/plain": [
       "<Figure size 432x288 with 1 Axes>"
      ]
     },
     "metadata": {
      "needs_background": "light"
     },
     "output_type": "display_data"
    }
   ],
   "source": [
    "fpr_all, tpr_all, th_all  = me.roc_curve(y_true, svc.predict_proba(x_test)[:, 1], pos_label=1)# 正解ラベル１を1に設定、なのでみるべきなのは0を取る時の確率密度\n",
    "df_roc = pd.DataFrame({'th_all': th_all, 'tpr_all': tpr_all, 'fpr_all': fpr_all}) # 閾値、再現率(recall)、陰性を間違えて陽性と判断した場合\n",
    "plt.plot(fpr_all, tpr_all, marker='o')\n",
    "plt.xlabel('FPR: False positive rate')\n",
    "plt.ylabel('TPR: True positive rate')\n",
    "plt.grid()\n",
    "display(df_roc)\n",
    "print('AUC : {}'.format(roc_auc_score(y_true, svc.predict_proba(x_test)[:, 1])))"
   ]
  },
  {
   "cell_type": "markdown",
   "id": "a4b62eb2-e05f-4c5c-b1a8-2ff3b4945678",
   "metadata": {},
   "source": [
    "ひとつも正解ラベル見つけられてないという悲しき結果に  \n",
    "閾値に関してはユニークが2500個(データの数ごとに確率だしてくれてる)のに362しか出力されていないし  \n",
    "AUCに関してはおそらくだけど各データに対して0を推奨しているため、0.5より下に行ったんじゃないかなぁ"
   ]
  },
  {
   "cell_type": "markdown",
   "id": "d47e1c56-3f4e-4c36-a777-04a96fe9e830",
   "metadata": {},
   "source": [
    "### ロジスティック回帰　"
   ]
  },
  {
   "cell_type": "code",
   "execution_count": 30,
   "id": "2a818348-7625-419b-a27c-dbe6f36becfb",
   "metadata": {},
   "outputs": [
    {
     "name": "stdout",
     "output_type": "stream",
     "text": [
      "[[2306    0]\n",
      " [ 194    0]]\n",
      "              precision    recall  f1-score   support\n",
      "\n",
      "           0       0.92      1.00      0.96      2306\n",
      "           1       0.00      0.00      0.00       194\n",
      "\n",
      "    accuracy                           0.92      2500\n",
      "   macro avg       0.46      0.50      0.48      2500\n",
      "weighted avg       0.85      0.92      0.89      2500\n",
      "\n"
     ]
    },
    {
     "name": "stderr",
     "output_type": "stream",
     "text": [
      "/opt/anaconda3/lib/python3.8/site-packages/sklearn/metrics/_classification.py:1245: UndefinedMetricWarning: Precision and F-score are ill-defined and being set to 0.0 in labels with no predicted samples. Use `zero_division` parameter to control this behavior.\n",
      "  _warn_prf(average, modifier, msg_start, len(result))\n",
      "/opt/anaconda3/lib/python3.8/site-packages/sklearn/metrics/_classification.py:1245: UndefinedMetricWarning: Precision and F-score are ill-defined and being set to 0.0 in labels with no predicted samples. Use `zero_division` parameter to control this behavior.\n",
      "  _warn_prf(average, modifier, msg_start, len(result))\n",
      "/opt/anaconda3/lib/python3.8/site-packages/sklearn/metrics/_classification.py:1245: UndefinedMetricWarning: Precision and F-score are ill-defined and being set to 0.0 in labels with no predicted samples. Use `zero_division` parameter to control this behavior.\n",
      "  _warn_prf(average, modifier, msg_start, len(result))\n"
     ]
    }
   ],
   "source": [
    "from sklearn.linear_model import LogisticRegression\n",
    "logi = LogisticRegression()\n",
    "logi.fit(x_train, y_train)\n",
    "logi_pred = svc.predict(x_test)\n",
    "logi_confusion = me.confusion_matrix(y_true, logi_pred) \n",
    "print(logi_confusion) # 混同行列\n",
    "print(classification_report(y_true, logi_pred))"
   ]
  },
  {
   "cell_type": "code",
   "execution_count": 31,
   "id": "c89d52c8-b93d-49cf-92ba-1f4fb90294b5",
   "metadata": {},
   "outputs": [
    {
     "data": {
      "text/html": [
       "<div>\n",
       "<style scoped>\n",
       "    .dataframe tbody tr th:only-of-type {\n",
       "        vertical-align: middle;\n",
       "    }\n",
       "\n",
       "    .dataframe tbody tr th {\n",
       "        vertical-align: top;\n",
       "    }\n",
       "\n",
       "    .dataframe thead th {\n",
       "        text-align: right;\n",
       "    }\n",
       "</style>\n",
       "<table border=\"1\" class=\"dataframe\">\n",
       "  <thead>\n",
       "    <tr style=\"text-align: right;\">\n",
       "      <th></th>\n",
       "      <th>unique_name</th>\n",
       "      <th>count</th>\n",
       "    </tr>\n",
       "  </thead>\n",
       "  <tbody>\n",
       "    <tr>\n",
       "      <th>0</th>\n",
       "      <td>0.009563</td>\n",
       "      <td>1</td>\n",
       "    </tr>\n",
       "    <tr>\n",
       "      <th>1</th>\n",
       "      <td>0.014933</td>\n",
       "      <td>1</td>\n",
       "    </tr>\n",
       "    <tr>\n",
       "      <th>2</th>\n",
       "      <td>0.015173</td>\n",
       "      <td>1</td>\n",
       "    </tr>\n",
       "    <tr>\n",
       "      <th>3</th>\n",
       "      <td>0.015368</td>\n",
       "      <td>1</td>\n",
       "    </tr>\n",
       "    <tr>\n",
       "      <th>4</th>\n",
       "      <td>0.016417</td>\n",
       "      <td>1</td>\n",
       "    </tr>\n",
       "    <tr>\n",
       "      <th>...</th>\n",
       "      <td>...</td>\n",
       "      <td>...</td>\n",
       "    </tr>\n",
       "    <tr>\n",
       "      <th>2495</th>\n",
       "      <td>0.227473</td>\n",
       "      <td>1</td>\n",
       "    </tr>\n",
       "    <tr>\n",
       "      <th>2496</th>\n",
       "      <td>0.229561</td>\n",
       "      <td>1</td>\n",
       "    </tr>\n",
       "    <tr>\n",
       "      <th>2497</th>\n",
       "      <td>0.230754</td>\n",
       "      <td>1</td>\n",
       "    </tr>\n",
       "    <tr>\n",
       "      <th>2498</th>\n",
       "      <td>0.232233</td>\n",
       "      <td>1</td>\n",
       "    </tr>\n",
       "    <tr>\n",
       "      <th>2499</th>\n",
       "      <td>0.232335</td>\n",
       "      <td>1</td>\n",
       "    </tr>\n",
       "  </tbody>\n",
       "</table>\n",
       "<p>2500 rows × 2 columns</p>\n",
       "</div>"
      ],
      "text/plain": [
       "      unique_name  count\n",
       "0        0.009563      1\n",
       "1        0.014933      1\n",
       "2        0.015173      1\n",
       "3        0.015368      1\n",
       "4        0.016417      1\n",
       "...           ...    ...\n",
       "2495     0.227473      1\n",
       "2496     0.229561      1\n",
       "2497     0.230754      1\n",
       "2498     0.232233      1\n",
       "2499     0.232335      1\n",
       "\n",
       "[2500 rows x 2 columns]"
      ]
     },
     "execution_count": 31,
     "metadata": {},
     "output_type": "execute_result"
    }
   ],
   "source": [
    "unique_name, count = np.unique(logi.predict_proba(x_test)[:, 1], return_counts=True) # 閾値とそれを超える値を格納\n",
    "pd.DataFrame(list(zip(unique_name, count)), columns = ['unique_name','count'])"
   ]
  },
  {
   "cell_type": "code",
   "execution_count": 32,
   "id": "ae0759b0-e0e0-429b-916e-e784310d84ad",
   "metadata": {},
   "outputs": [
    {
     "data": {
      "text/html": [
       "<div>\n",
       "<style scoped>\n",
       "    .dataframe tbody tr th:only-of-type {\n",
       "        vertical-align: middle;\n",
       "    }\n",
       "\n",
       "    .dataframe tbody tr th {\n",
       "        vertical-align: top;\n",
       "    }\n",
       "\n",
       "    .dataframe thead th {\n",
       "        text-align: right;\n",
       "    }\n",
       "</style>\n",
       "<table border=\"1\" class=\"dataframe\">\n",
       "  <thead>\n",
       "    <tr style=\"text-align: right;\">\n",
       "      <th></th>\n",
       "      <th>th_all</th>\n",
       "      <th>tpr_all</th>\n",
       "      <th>fpr_all</th>\n",
       "    </tr>\n",
       "  </thead>\n",
       "  <tbody>\n",
       "    <tr>\n",
       "      <th>0</th>\n",
       "      <td>1.232335</td>\n",
       "      <td>0.000000</td>\n",
       "      <td>0.000000</td>\n",
       "    </tr>\n",
       "    <tr>\n",
       "      <th>1</th>\n",
       "      <td>0.232335</td>\n",
       "      <td>0.000000</td>\n",
       "      <td>0.000434</td>\n",
       "    </tr>\n",
       "    <tr>\n",
       "      <th>2</th>\n",
       "      <td>0.230754</td>\n",
       "      <td>0.000000</td>\n",
       "      <td>0.001301</td>\n",
       "    </tr>\n",
       "    <tr>\n",
       "      <th>3</th>\n",
       "      <td>0.229561</td>\n",
       "      <td>0.005155</td>\n",
       "      <td>0.001301</td>\n",
       "    </tr>\n",
       "    <tr>\n",
       "      <th>4</th>\n",
       "      <td>0.210383</td>\n",
       "      <td>0.005155</td>\n",
       "      <td>0.012142</td>\n",
       "    </tr>\n",
       "    <tr>\n",
       "      <th>...</th>\n",
       "      <td>...</td>\n",
       "      <td>...</td>\n",
       "      <td>...</td>\n",
       "    </tr>\n",
       "    <tr>\n",
       "      <th>353</th>\n",
       "      <td>0.023893</td>\n",
       "      <td>0.989691</td>\n",
       "      <td>0.969644</td>\n",
       "    </tr>\n",
       "    <tr>\n",
       "      <th>354</th>\n",
       "      <td>0.017928</td>\n",
       "      <td>0.989691</td>\n",
       "      <td>0.996964</td>\n",
       "    </tr>\n",
       "    <tr>\n",
       "      <th>355</th>\n",
       "      <td>0.017884</td>\n",
       "      <td>0.994845</td>\n",
       "      <td>0.996964</td>\n",
       "    </tr>\n",
       "    <tr>\n",
       "      <th>356</th>\n",
       "      <td>0.014933</td>\n",
       "      <td>0.994845</td>\n",
       "      <td>1.000000</td>\n",
       "    </tr>\n",
       "    <tr>\n",
       "      <th>357</th>\n",
       "      <td>0.009563</td>\n",
       "      <td>1.000000</td>\n",
       "      <td>1.000000</td>\n",
       "    </tr>\n",
       "  </tbody>\n",
       "</table>\n",
       "<p>358 rows × 3 columns</p>\n",
       "</div>"
      ],
      "text/plain": [
       "       th_all   tpr_all   fpr_all\n",
       "0    1.232335  0.000000  0.000000\n",
       "1    0.232335  0.000000  0.000434\n",
       "2    0.230754  0.000000  0.001301\n",
       "3    0.229561  0.005155  0.001301\n",
       "4    0.210383  0.005155  0.012142\n",
       "..        ...       ...       ...\n",
       "353  0.023893  0.989691  0.969644\n",
       "354  0.017928  0.989691  0.996964\n",
       "355  0.017884  0.994845  0.996964\n",
       "356  0.014933  0.994845  1.000000\n",
       "357  0.009563  1.000000  1.000000\n",
       "\n",
       "[358 rows x 3 columns]"
      ]
     },
     "metadata": {},
     "output_type": "display_data"
    },
    {
     "name": "stdout",
     "output_type": "stream",
     "text": [
      "AUC : 0.6148863118176697\n"
     ]
    },
    {
     "data": {
      "image/png": "[encoded data removed]",
      "text/plain": [
       "<Figure size 432x288 with 1 Axes>"
      ]
     },
     "metadata": {
      "needs_background": "light"
     },
     "output_type": "display_data"
    }
   ],
   "source": [
    "fpr_all, tpr_all, th_all  = me.roc_curve(y_true, logi.predict_proba(x_test)[:, 1], pos_label=1)# 正解ラベル１を1に設定、なのでみるべきなのは0を取る時の確率密度\n",
    "df_roc = pd.DataFrame({'th_all': th_all, 'tpr_all': tpr_all, 'fpr_all': fpr_all}) # 閾値、再現率(recall)、陰性を間違えて陽性と判断した場合\n",
    "plt.plot(fpr_all, tpr_all, marker='o')\n",
    "plt.xlabel('FPR: False positive rate')\n",
    "plt.ylabel('TPR: True positive rate')\n",
    "plt.grid()\n",
    "display(df_roc)\n",
    "print('AUC : {}'.format(roc_auc_score(y_true, logi.predict_proba(x_test)[:, 1])))"
   ]
  },
  {
   "cell_type": "markdown",
   "id": "a86b199d-9446-4656-b28f-932fe5f4a80a",
   "metadata": {},
   "source": [
    "かなりスコアは良いかもしれない  \n",
    "理由はおいおいわかりそうだが..."
   ]
  },
  {
   "cell_type": "markdown",
   "id": "5d8c4b15-dc13-4b1e-a245-10876919a51c",
   "metadata": {},
   "source": [
    "### 評価\n",
    "ロジスティック回帰1強  \n",
    "今後の学習はロジスティック回帰を使っていく"
   ]
  },
  {
   "cell_type": "markdown",
   "id": "155cd359-cacd-4c39-a78d-938cf57f8383",
   "metadata": {},
   "source": [
    "## 対数変換"
   ]
  },
  {
   "cell_type": "code",
   "execution_count": 33,
   "id": "dfe3b333-8ac6-42b5-990b-70e23c651298",
   "metadata": {},
   "outputs": [],
   "source": [
    "x_l = x.copy()"
   ]
  },
  {
   "cell_type": "code",
   "execution_count": 34,
   "id": "519d07b6-8ced-45ac-a5cd-74fb6a1a0049",
   "metadata": {},
   "outputs": [
    {
     "data": {
      "image/png": "[encoded data removed]",
      "text/plain": [
       "<Figure size 360x360 with 1 Axes>"
      ]
     },
     "metadata": {
      "needs_background": "light"
     },
     "output_type": "display_data"
    }
   ],
   "source": [
    "x_l['AMT_CREDIT_log'] = x_l['AMT_CREDIT'].apply(np.log) # 対数変換\n",
    "sns.displot(x_l.AMT_CREDIT_log);"
   ]
  },
  {
   "cell_type": "code",
   "execution_count": 35,
   "id": "4685ad50-e34a-4fd4-b913-45c5852ea783",
   "metadata": {},
   "outputs": [
    {
     "data": {
      "text/html": [
       "<div>\n",
       "<style scoped>\n",
       "    .dataframe tbody tr th:only-of-type {\n",
       "        vertical-align: middle;\n",
       "    }\n",
       "\n",
       "    .dataframe tbody tr th {\n",
       "        vertical-align: top;\n",
       "    }\n",
       "\n",
       "    .dataframe thead th {\n",
       "        text-align: right;\n",
       "    }\n",
       "</style>\n",
       "<table border=\"1\" class=\"dataframe\">\n",
       "  <thead>\n",
       "    <tr style=\"text-align: right;\">\n",
       "      <th></th>\n",
       "      <th>CODE_GENDER</th>\n",
       "      <th>NAME_FAMILY_STATUS</th>\n",
       "      <th>AMT_CREDIT</th>\n",
       "      <th>DAYS_BIRTH</th>\n",
       "      <th>AMT_CREDIT_log</th>\n",
       "    </tr>\n",
       "  </thead>\n",
       "  <tbody>\n",
       "    <tr>\n",
       "      <th>0</th>\n",
       "      <td>0</td>\n",
       "      <td>3</td>\n",
       "      <td>406597.5</td>\n",
       "      <td>-9461</td>\n",
       "      <td>12.915579</td>\n",
       "    </tr>\n",
       "    <tr>\n",
       "      <th>1</th>\n",
       "      <td>1</td>\n",
       "      <td>1</td>\n",
       "      <td>1293502.5</td>\n",
       "      <td>-16765</td>\n",
       "      <td>14.072864</td>\n",
       "    </tr>\n",
       "    <tr>\n",
       "      <th>2</th>\n",
       "      <td>0</td>\n",
       "      <td>3</td>\n",
       "      <td>135000.0</td>\n",
       "      <td>-19046</td>\n",
       "      <td>11.813030</td>\n",
       "    </tr>\n",
       "    <tr>\n",
       "      <th>3</th>\n",
       "      <td>1</td>\n",
       "      <td>0</td>\n",
       "      <td>312682.5</td>\n",
       "      <td>-19005</td>\n",
       "      <td>12.652944</td>\n",
       "    </tr>\n",
       "    <tr>\n",
       "      <th>4</th>\n",
       "      <td>0</td>\n",
       "      <td>3</td>\n",
       "      <td>513000.0</td>\n",
       "      <td>-19932</td>\n",
       "      <td>13.148031</td>\n",
       "    </tr>\n",
       "  </tbody>\n",
       "</table>\n",
       "</div>"
      ],
      "text/plain": [
       "   CODE_GENDER  NAME_FAMILY_STATUS  AMT_CREDIT  DAYS_BIRTH  AMT_CREDIT_log\n",
       "0            0                   3    406597.5       -9461       12.915579\n",
       "1            1                   1   1293502.5      -16765       14.072864\n",
       "2            0                   3    135000.0      -19046       11.813030\n",
       "3            1                   0    312682.5      -19005       12.652944\n",
       "4            0                   3    513000.0      -19932       13.148031"
      ]
     },
     "execution_count": 35,
     "metadata": {},
     "output_type": "execute_result"
    }
   ],
   "source": [
    "x_l.head()"
   ]
  },
  {
   "cell_type": "code",
   "execution_count": 36,
   "id": "4f4d1dbb-f371-465e-bd40-3b5ef30ac436",
   "metadata": {},
   "outputs": [
    {
     "data": {
      "text/html": [
       "<div>\n",
       "<style scoped>\n",
       "    .dataframe tbody tr th:only-of-type {\n",
       "        vertical-align: middle;\n",
       "    }\n",
       "\n",
       "    .dataframe tbody tr th {\n",
       "        vertical-align: top;\n",
       "    }\n",
       "\n",
       "    .dataframe thead th {\n",
       "        text-align: right;\n",
       "    }\n",
       "</style>\n",
       "<table border=\"1\" class=\"dataframe\">\n",
       "  <thead>\n",
       "    <tr style=\"text-align: right;\">\n",
       "      <th></th>\n",
       "      <th>CODE_GENDER</th>\n",
       "      <th>NAME_FAMILY_STATUS</th>\n",
       "      <th>DAYS_BIRTH</th>\n",
       "      <th>AMT_CREDIT_log</th>\n",
       "    </tr>\n",
       "  </thead>\n",
       "  <tbody>\n",
       "    <tr>\n",
       "      <th>0</th>\n",
       "      <td>0</td>\n",
       "      <td>3</td>\n",
       "      <td>-9461</td>\n",
       "      <td>12.915579</td>\n",
       "    </tr>\n",
       "    <tr>\n",
       "      <th>1</th>\n",
       "      <td>1</td>\n",
       "      <td>1</td>\n",
       "      <td>-16765</td>\n",
       "      <td>14.072864</td>\n",
       "    </tr>\n",
       "    <tr>\n",
       "      <th>2</th>\n",
       "      <td>0</td>\n",
       "      <td>3</td>\n",
       "      <td>-19046</td>\n",
       "      <td>11.813030</td>\n",
       "    </tr>\n",
       "    <tr>\n",
       "      <th>3</th>\n",
       "      <td>1</td>\n",
       "      <td>0</td>\n",
       "      <td>-19005</td>\n",
       "      <td>12.652944</td>\n",
       "    </tr>\n",
       "    <tr>\n",
       "      <th>4</th>\n",
       "      <td>0</td>\n",
       "      <td>3</td>\n",
       "      <td>-19932</td>\n",
       "      <td>13.148031</td>\n",
       "    </tr>\n",
       "  </tbody>\n",
       "</table>\n",
       "</div>"
      ],
      "text/plain": [
       "   CODE_GENDER  NAME_FAMILY_STATUS  DAYS_BIRTH  AMT_CREDIT_log\n",
       "0            0                   3       -9461       12.915579\n",
       "1            1                   1      -16765       14.072864\n",
       "2            0                   3      -19046       11.813030\n",
       "3            1                   0      -19005       12.652944\n",
       "4            0                   3      -19932       13.148031"
      ]
     },
     "execution_count": 36,
     "metadata": {},
     "output_type": "execute_result"
    }
   ],
   "source": [
    "x_log = x_l.drop('AMT_CREDIT', axis=1)\n",
    "x_log.head()"
   ]
  },
  {
   "cell_type": "markdown",
   "id": "f4f58f89-644c-4906-a9f7-2c9a4706ee89",
   "metadata": {},
   "source": [
    "### 評価"
   ]
  },
  {
   "cell_type": "code",
   "execution_count": 37,
   "id": "3bef49b3-1f82-413e-86dc-e92461d1ff41",
   "metadata": {},
   "outputs": [],
   "source": [
    "x_train_l, x_test_l = train_test_split(x_log.values, random_state=0).copy()"
   ]
  },
  {
   "cell_type": "code",
   "execution_count": 38,
   "id": "d8bdc696-274c-46aa-afe1-94dc83b322b2",
   "metadata": {},
   "outputs": [
    {
     "name": "stdout",
     "output_type": "stream",
     "text": [
      "[[2306    0]\n",
      " [ 194    0]]\n",
      "              precision    recall  f1-score   support\n",
      "\n",
      "           0       0.92      1.00      0.96      2306\n",
      "           1       0.00      0.00      0.00       194\n",
      "\n",
      "    accuracy                           0.92      2500\n",
      "   macro avg       0.46      0.50      0.48      2500\n",
      "weighted avg       0.85      0.92      0.89      2500\n",
      "\n"
     ]
    },
    {
     "name": "stderr",
     "output_type": "stream",
     "text": [
      "/opt/anaconda3/lib/python3.8/site-packages/sklearn/metrics/_classification.py:1245: UndefinedMetricWarning: Precision and F-score are ill-defined and being set to 0.0 in labels with no predicted samples. Use `zero_division` parameter to control this behavior.\n",
      "  _warn_prf(average, modifier, msg_start, len(result))\n",
      "/opt/anaconda3/lib/python3.8/site-packages/sklearn/metrics/_classification.py:1245: UndefinedMetricWarning: Precision and F-score are ill-defined and being set to 0.0 in labels with no predicted samples. Use `zero_division` parameter to control this behavior.\n",
      "  _warn_prf(average, modifier, msg_start, len(result))\n",
      "/opt/anaconda3/lib/python3.8/site-packages/sklearn/metrics/_classification.py:1245: UndefinedMetricWarning: Precision and F-score are ill-defined and being set to 0.0 in labels with no predicted samples. Use `zero_division` parameter to control this behavior.\n",
      "  _warn_prf(average, modifier, msg_start, len(result))\n"
     ]
    }
   ],
   "source": [
    "logi_l = LogisticRegression()\n",
    "logi_l.fit(x_train_l, y_train)\n",
    "logi_l_pred = logi_l.predict(x_test_l)\n",
    "logi_l_confusion = me.confusion_matrix(y_true, logi_l_pred) \n",
    "print(logi_l_confusion) # 混同行列\n",
    "print(classification_report(y_true, logi_l_pred))"
   ]
  },
  {
   "cell_type": "code",
   "execution_count": 39,
   "id": "b8307137-e789-44c1-8084-a60d306cf8cc",
   "metadata": {},
   "outputs": [
    {
     "data": {
      "text/html": [
       "<div>\n",
       "<style scoped>\n",
       "    .dataframe tbody tr th:only-of-type {\n",
       "        vertical-align: middle;\n",
       "    }\n",
       "\n",
       "    .dataframe tbody tr th {\n",
       "        vertical-align: top;\n",
       "    }\n",
       "\n",
       "    .dataframe thead th {\n",
       "        text-align: right;\n",
       "    }\n",
       "</style>\n",
       "<table border=\"1\" class=\"dataframe\">\n",
       "  <thead>\n",
       "    <tr style=\"text-align: right;\">\n",
       "      <th></th>\n",
       "      <th>th_all</th>\n",
       "      <th>tpr_all</th>\n",
       "      <th>fpr_all</th>\n",
       "    </tr>\n",
       "  </thead>\n",
       "  <tbody>\n",
       "    <tr>\n",
       "      <th>0</th>\n",
       "      <td>1.152172</td>\n",
       "      <td>0.000000</td>\n",
       "      <td>0.000000</td>\n",
       "    </tr>\n",
       "    <tr>\n",
       "      <th>1</th>\n",
       "      <td>0.152172</td>\n",
       "      <td>0.000000</td>\n",
       "      <td>0.000434</td>\n",
       "    </tr>\n",
       "    <tr>\n",
       "      <th>2</th>\n",
       "      <td>0.144373</td>\n",
       "      <td>0.000000</td>\n",
       "      <td>0.003903</td>\n",
       "    </tr>\n",
       "    <tr>\n",
       "      <th>3</th>\n",
       "      <td>0.144275</td>\n",
       "      <td>0.005155</td>\n",
       "      <td>0.003903</td>\n",
       "    </tr>\n",
       "    <tr>\n",
       "      <th>4</th>\n",
       "      <td>0.139755</td>\n",
       "      <td>0.005155</td>\n",
       "      <td>0.009974</td>\n",
       "    </tr>\n",
       "    <tr>\n",
       "      <th>...</th>\n",
       "      <td>...</td>\n",
       "      <td>...</td>\n",
       "      <td>...</td>\n",
       "    </tr>\n",
       "    <tr>\n",
       "      <th>364</th>\n",
       "      <td>0.038356</td>\n",
       "      <td>0.989691</td>\n",
       "      <td>0.989592</td>\n",
       "    </tr>\n",
       "    <tr>\n",
       "      <th>365</th>\n",
       "      <td>0.038356</td>\n",
       "      <td>0.994845</td>\n",
       "      <td>0.989592</td>\n",
       "    </tr>\n",
       "    <tr>\n",
       "      <th>366</th>\n",
       "      <td>0.037419</td>\n",
       "      <td>0.994845</td>\n",
       "      <td>0.996531</td>\n",
       "    </tr>\n",
       "    <tr>\n",
       "      <th>367</th>\n",
       "      <td>0.037344</td>\n",
       "      <td>1.000000</td>\n",
       "      <td>0.996531</td>\n",
       "    </tr>\n",
       "    <tr>\n",
       "      <th>368</th>\n",
       "      <td>0.036478</td>\n",
       "      <td>1.000000</td>\n",
       "      <td>1.000000</td>\n",
       "    </tr>\n",
       "  </tbody>\n",
       "</table>\n",
       "<p>369 rows × 3 columns</p>\n",
       "</div>"
      ],
      "text/plain": [
       "       th_all   tpr_all   fpr_all\n",
       "0    1.152172  0.000000  0.000000\n",
       "1    0.152172  0.000000  0.000434\n",
       "2    0.144373  0.000000  0.003903\n",
       "3    0.144275  0.005155  0.003903\n",
       "4    0.139755  0.005155  0.009974\n",
       "..        ...       ...       ...\n",
       "364  0.038356  0.989691  0.989592\n",
       "365  0.038356  0.994845  0.989592\n",
       "366  0.037419  0.994845  0.996531\n",
       "367  0.037344  1.000000  0.996531\n",
       "368  0.036478  1.000000  1.000000\n",
       "\n",
       "[369 rows x 3 columns]"
      ]
     },
     "metadata": {},
     "output_type": "display_data"
    },
    {
     "name": "stdout",
     "output_type": "stream",
     "text": [
      "AUC : 0.606772113983244\n"
     ]
    },
    {
     "data": {
      "image/png": "[encoded data removed]",
      "text/plain": [
       "<Figure size 432x288 with 1 Axes>"
      ]
     },
     "metadata": {
      "needs_background": "light"
     },
     "output_type": "display_data"
    }
   ],
   "source": [
    "fpr_all, tpr_all, th_all  = me.roc_curve(y_true, logi_l.predict_proba(x_test_l)[:, 1], pos_label=1)# 正解ラベル１を1に設定、なのでみるべきなのは0を取る時の確率密度\n",
    "df_roc = pd.DataFrame({'th_all': th_all, 'tpr_all': tpr_all, 'fpr_all': fpr_all}) # 閾値、再現率(recall)、陰性を間違えて陽性と判断した場合\n",
    "plt.plot(fpr_all, tpr_all, marker='o')\n",
    "plt.xlabel('FPR: False positive rate')\n",
    "plt.ylabel('TPR: True positive rate')\n",
    "plt.grid()\n",
    "display(df_roc)\n",
    "print('AUC : {}'.format(roc_auc_score(y_true, logi_l.predict_proba(x_test_l)[:, 1])))"
   ]
  },
  {
   "cell_type": "markdown",
   "id": "0cc749d5-b507-451d-9d7a-daa2dc403f5a",
   "metadata": {},
   "source": [
    "対数変換した方が結果は悪くなった。  \n",
    "住宅価格の時は良くなったので考えられる原因は\n",
    "- 対数変換したのが、目的変数ではなく説明変数のみ\n",
    "- 分類問題だったため"
   ]
  },
  {
   "cell_type": "markdown",
   "id": "944fbc47-5318-44fc-9bfd-2c2bc4b2869b",
   "metadata": {},
   "source": [
    "## 標準化"
   ]
  },
  {
   "cell_type": "code",
   "execution_count": 40,
   "id": "b4211e17-7323-4894-a536-8e539da56362",
   "metadata": {},
   "outputs": [],
   "source": [
    "x_train_df, x_test_df = train_test_split(x, random_state=0).copy() # df状態で分配"
   ]
  },
  {
   "cell_type": "code",
   "execution_count": 41,
   "id": "9560f6d8-1b14-4dd8-9851-eac442d0e07d",
   "metadata": {},
   "outputs": [
    {
     "data": {
      "text/plain": [
       "array([[ 0.44254664, -1.64630957],\n",
       "       [-1.25372076, -0.62210121],\n",
       "       [-0.99022292, -0.21641725],\n",
       "       ...,\n",
       "       [-0.68230431,  0.26143939],\n",
       "       [-1.07516982, -0.27387957],\n",
       "       [-0.15566469, -0.33432993]])"
      ]
     },
     "execution_count": 41,
     "metadata": {},
     "output_type": "execute_result"
    }
   ],
   "source": [
    "from sklearn.preprocessing import StandardScaler\n",
    "scaler = StandardScaler()\n",
    "scaler.fit(x_train_df[['AMT_CREDIT', 'DAYS_BIRTH']])\n",
    "x_train_h = scaler.transform(x_train_df[['AMT_CREDIT', 'DAYS_BIRTH']]) # 標準化できるものを標準化しhに格納\n",
    "x_test_h = scaler.transform(x_test_df[['AMT_CREDIT', 'DAYS_BIRTH']])\n",
    "x_train_h"
   ]
  },
  {
   "cell_type": "code",
   "execution_count": 42,
   "id": "74d36b35-115e-4c6f-9d11-8750314116c2",
   "metadata": {},
   "outputs": [
    {
     "data": {
      "text/html": [
       "<div>\n",
       "<style scoped>\n",
       "    .dataframe tbody tr th:only-of-type {\n",
       "        vertical-align: middle;\n",
       "    }\n",
       "\n",
       "    .dataframe tbody tr th {\n",
       "        vertical-align: top;\n",
       "    }\n",
       "\n",
       "    .dataframe thead th {\n",
       "        text-align: right;\n",
       "    }\n",
       "</style>\n",
       "<table border=\"1\" class=\"dataframe\">\n",
       "  <thead>\n",
       "    <tr style=\"text-align: right;\">\n",
       "      <th></th>\n",
       "      <th>CODE_GENDER</th>\n",
       "      <th>NAME_FAMILY_STATUS</th>\n",
       "    </tr>\n",
       "  </thead>\n",
       "  <tbody>\n",
       "    <tr>\n",
       "      <th>2967</th>\n",
       "      <td>1</td>\n",
       "      <td>1</td>\n",
       "    </tr>\n",
       "    <tr>\n",
       "      <th>700</th>\n",
       "      <td>1</td>\n",
       "      <td>0</td>\n",
       "    </tr>\n",
       "    <tr>\n",
       "      <th>3481</th>\n",
       "      <td>1</td>\n",
       "      <td>0</td>\n",
       "    </tr>\n",
       "    <tr>\n",
       "      <th>1621</th>\n",
       "      <td>0</td>\n",
       "      <td>3</td>\n",
       "    </tr>\n",
       "    <tr>\n",
       "      <th>800</th>\n",
       "      <td>1</td>\n",
       "      <td>0</td>\n",
       "    </tr>\n",
       "    <tr>\n",
       "      <th>...</th>\n",
       "      <td>...</td>\n",
       "      <td>...</td>\n",
       "    </tr>\n",
       "    <tr>\n",
       "      <th>9225</th>\n",
       "      <td>1</td>\n",
       "      <td>1</td>\n",
       "    </tr>\n",
       "    <tr>\n",
       "      <th>4859</th>\n",
       "      <td>1</td>\n",
       "      <td>0</td>\n",
       "    </tr>\n",
       "    <tr>\n",
       "      <th>3264</th>\n",
       "      <td>0</td>\n",
       "      <td>1</td>\n",
       "    </tr>\n",
       "    <tr>\n",
       "      <th>9845</th>\n",
       "      <td>1</td>\n",
       "      <td>1</td>\n",
       "    </tr>\n",
       "    <tr>\n",
       "      <th>2732</th>\n",
       "      <td>1</td>\n",
       "      <td>2</td>\n",
       "    </tr>\n",
       "  </tbody>\n",
       "</table>\n",
       "<p>7500 rows × 2 columns</p>\n",
       "</div>"
      ],
      "text/plain": [
       "      CODE_GENDER  NAME_FAMILY_STATUS\n",
       "2967            1                   1\n",
       "700             1                   0\n",
       "3481            1                   0\n",
       "1621            0                   3\n",
       "800             1                   0\n",
       "...           ...                 ...\n",
       "9225            1                   1\n",
       "4859            1                   0\n",
       "3264            0                   1\n",
       "9845            1                   1\n",
       "2732            1                   2\n",
       "\n",
       "[7500 rows x 2 columns]"
      ]
     },
     "execution_count": 42,
     "metadata": {},
     "output_type": "execute_result"
    }
   ],
   "source": [
    "x_train_df_2 = x_train_df.drop(['AMT_CREDIT', 'DAYS_BIRTH'], axis=1) # 標準化したものを削除\n",
    "x_test_df_2 = x_test_df.drop(['AMT_CREDIT', 'DAYS_BIRTH'], axis=1) \n",
    "x_train_df_2"
   ]
  },
  {
   "cell_type": "code",
   "execution_count": 43,
   "id": "ec9a878e-d1ec-4259-81ce-b499366d6206",
   "metadata": {},
   "outputs": [
    {
     "data": {
      "text/plain": [
       "array([[-0.64705257,  0.07480178,  0.        ,  1.        ],\n",
       "       [-1.26840899, -1.28383727,  1.        ,  2.        ],\n",
       "       [-0.86441605, -1.05191935,  1.        ,  1.        ],\n",
       "       ...,\n",
       "       [-0.18906928,  0.57472395,  0.        ,  1.        ],\n",
       "       [ 0.17815859,  1.18474392,  0.        ,  0.        ],\n",
       "       [-0.48325661, -0.82850586,  1.        ,  1.        ]])"
      ]
     },
     "execution_count": 43,
     "metadata": {},
     "output_type": "execute_result"
    }
   ],
   "source": [
    "x_train_2 = x_train_df_2.values # dfをndarrayに\n",
    "x_test_2 = x_test_df_2.values\n",
    "x_train_h_2 = np.hstack([x_train_h, x_train_2])\n",
    "x_test_h_2 = np.hstack([x_test_h, x_test_2])\n",
    "x_test_h_2"
   ]
  },
  {
   "cell_type": "markdown",
   "id": "f11c90d6-d904-4fbb-a4bd-9d6efe716033",
   "metadata": {},
   "source": [
    "### 評価"
   ]
  },
  {
   "cell_type": "code",
   "execution_count": 44,
   "id": "aebbb5e1-ad59-47e1-aeaf-68e96084bf46",
   "metadata": {},
   "outputs": [
    {
     "name": "stdout",
     "output_type": "stream",
     "text": [
      "[[2306    0]\n",
      " [ 194    0]]\n",
      "              precision    recall  f1-score   support\n",
      "\n",
      "           0       0.92      1.00      0.96      2306\n",
      "           1       0.00      0.00      0.00       194\n",
      "\n",
      "    accuracy                           0.92      2500\n",
      "   macro avg       0.46      0.50      0.48      2500\n",
      "weighted avg       0.85      0.92      0.89      2500\n",
      "\n"
     ]
    },
    {
     "name": "stderr",
     "output_type": "stream",
     "text": [
      "/opt/anaconda3/lib/python3.8/site-packages/sklearn/metrics/_classification.py:1245: UndefinedMetricWarning: Precision and F-score are ill-defined and being set to 0.0 in labels with no predicted samples. Use `zero_division` parameter to control this behavior.\n",
      "  _warn_prf(average, modifier, msg_start, len(result))\n",
      "/opt/anaconda3/lib/python3.8/site-packages/sklearn/metrics/_classification.py:1245: UndefinedMetricWarning: Precision and F-score are ill-defined and being set to 0.0 in labels with no predicted samples. Use `zero_division` parameter to control this behavior.\n",
      "  _warn_prf(average, modifier, msg_start, len(result))\n",
      "/opt/anaconda3/lib/python3.8/site-packages/sklearn/metrics/_classification.py:1245: UndefinedMetricWarning: Precision and F-score are ill-defined and being set to 0.0 in labels with no predicted samples. Use `zero_division` parameter to control this behavior.\n",
      "  _warn_prf(average, modifier, msg_start, len(result))\n"
     ]
    }
   ],
   "source": [
    "logi_h = LogisticRegression()\n",
    "logi_h.fit(x_train_h_2, y_train)\n",
    "logi_h_pred = logi_h.predict(x_test_h_2)\n",
    "logi_h_confusion = me.confusion_matrix(y_true, logi_h_pred) \n",
    "print(logi_h_confusion) # 混同行列\n",
    "print(classification_report(y_true, logi_h_pred))"
   ]
  },
  {
   "cell_type": "code",
   "execution_count": 45,
   "id": "392b1584-64aa-4aaf-ab1a-1f5f9237f45c",
   "metadata": {},
   "outputs": [
    {
     "data": {
      "text/html": [
       "<div>\n",
       "<style scoped>\n",
       "    .dataframe tbody tr th:only-of-type {\n",
       "        vertical-align: middle;\n",
       "    }\n",
       "\n",
       "    .dataframe tbody tr th {\n",
       "        vertical-align: top;\n",
       "    }\n",
       "\n",
       "    .dataframe thead th {\n",
       "        text-align: right;\n",
       "    }\n",
       "</style>\n",
       "<table border=\"1\" class=\"dataframe\">\n",
       "  <thead>\n",
       "    <tr style=\"text-align: right;\">\n",
       "      <th></th>\n",
       "      <th>th_all</th>\n",
       "      <th>tpr_all</th>\n",
       "      <th>fpr_all</th>\n",
       "    </tr>\n",
       "  </thead>\n",
       "  <tbody>\n",
       "    <tr>\n",
       "      <th>0</th>\n",
       "      <td>1.182648</td>\n",
       "      <td>0.000000</td>\n",
       "      <td>0.000000</td>\n",
       "    </tr>\n",
       "    <tr>\n",
       "      <th>1</th>\n",
       "      <td>0.182648</td>\n",
       "      <td>0.000000</td>\n",
       "      <td>0.000434</td>\n",
       "    </tr>\n",
       "    <tr>\n",
       "      <th>2</th>\n",
       "      <td>0.172285</td>\n",
       "      <td>0.000000</td>\n",
       "      <td>0.004337</td>\n",
       "    </tr>\n",
       "    <tr>\n",
       "      <th>3</th>\n",
       "      <td>0.171320</td>\n",
       "      <td>0.005155</td>\n",
       "      <td>0.004337</td>\n",
       "    </tr>\n",
       "    <tr>\n",
       "      <th>4</th>\n",
       "      <td>0.166051</td>\n",
       "      <td>0.005155</td>\n",
       "      <td>0.007806</td>\n",
       "    </tr>\n",
       "    <tr>\n",
       "      <th>...</th>\n",
       "      <td>...</td>\n",
       "      <td>...</td>\n",
       "      <td>...</td>\n",
       "    </tr>\n",
       "    <tr>\n",
       "      <th>350</th>\n",
       "      <td>0.036126</td>\n",
       "      <td>0.989691</td>\n",
       "      <td>0.978317</td>\n",
       "    </tr>\n",
       "    <tr>\n",
       "      <th>351</th>\n",
       "      <td>0.036113</td>\n",
       "      <td>0.994845</td>\n",
       "      <td>0.978317</td>\n",
       "    </tr>\n",
       "    <tr>\n",
       "      <th>352</th>\n",
       "      <td>0.029818</td>\n",
       "      <td>0.994845</td>\n",
       "      <td>0.998265</td>\n",
       "    </tr>\n",
       "    <tr>\n",
       "      <th>353</th>\n",
       "      <td>0.029716</td>\n",
       "      <td>1.000000</td>\n",
       "      <td>0.998265</td>\n",
       "    </tr>\n",
       "    <tr>\n",
       "      <th>354</th>\n",
       "      <td>0.027218</td>\n",
       "      <td>1.000000</td>\n",
       "      <td>1.000000</td>\n",
       "    </tr>\n",
       "  </tbody>\n",
       "</table>\n",
       "<p>355 rows × 3 columns</p>\n",
       "</div>"
      ],
      "text/plain": [
       "       th_all   tpr_all   fpr_all\n",
       "0    1.182648  0.000000  0.000000\n",
       "1    0.182648  0.000000  0.000434\n",
       "2    0.172285  0.000000  0.004337\n",
       "3    0.171320  0.005155  0.004337\n",
       "4    0.166051  0.005155  0.007806\n",
       "..        ...       ...       ...\n",
       "350  0.036126  0.989691  0.978317\n",
       "351  0.036113  0.994845  0.978317\n",
       "352  0.029818  0.994845  0.998265\n",
       "353  0.029716  1.000000  0.998265\n",
       "354  0.027218  1.000000  1.000000\n",
       "\n",
       "[355 rows x 3 columns]"
      ]
     },
     "metadata": {},
     "output_type": "display_data"
    },
    {
     "name": "stdout",
     "output_type": "stream",
     "text": [
      "AUC : 0.6095372001323307\n"
     ]
    },
    {
     "data": {
      "image/png": "[encoded data removed]",
      "text/plain": [
       "<Figure size 432x288 with 1 Axes>"
      ]
     },
     "metadata": {
      "needs_background": "light"
     },
     "output_type": "display_data"
    }
   ],
   "source": [
    "fpr_all, tpr_all, th_all  = me.roc_curve(y_true, logi_h.predict_proba(x_test_h_2)[:, 1], pos_label=1)# 正解ラベル１を1に設定、なのでみるべきなのは0を取る時の確率密度\n",
    "df_roc = pd.DataFrame({'th_all': th_all, 'tpr_all': tpr_all, 'fpr_all': fpr_all}) # 閾値、再現率(recall)、陰性を間違えて陽性と判断した場合\n",
    "plt.plot(fpr_all, tpr_all, marker='o')\n",
    "plt.xlabel('FPR: False positive rate')\n",
    "plt.ylabel('TPR: True positive rate')\n",
    "plt.grid()\n",
    "display(df_roc)\n",
    "print('AUC : {}'.format(roc_auc_score(y_true, logi_h.predict_proba(x_test_h_2)[:, 1])))"
   ]
  },
  {
   "cell_type": "markdown",
   "id": "9aa518ff-cea2-4aa8-bee2-ba9f8df36a5c",
   "metadata": {},
   "source": [
    "こちらも精度としては下がってる  \n",
    "何でもかんでも標準化すればいいってわけではない  \n",
    "可能性としては、'AMT_CREDIT', 'DAYS_BIRTH'の重みが深く、標準化したことで重みが減ってしまったこと。"
   ]
  },
  {
   "cell_type": "markdown",
   "id": "e27a8229-dfc6-494b-8c94-08bd8b1e6fe4",
   "metadata": {},
   "source": [
    "## 特徴量の削減"
   ]
  },
  {
   "cell_type": "markdown",
   "id": "88d32054-e13c-4001-bf1e-f0fb7b73ec1d",
   "metadata": {},
   "source": [
    "- CODE_GENDER = c\n",
    "- NAME_FAMILY_STATUS = n\n",
    "- AMT_CREDIT = a\n",
    "- DAYS_BIRTH = d\n",
    "\n",
    "aが一番関係なさそうなので削ってみる"
   ]
  },
  {
   "cell_type": "code",
   "execution_count": 46,
   "id": "2ec63681-dcb9-4ba8-b64e-17d7e06c62b1",
   "metadata": {},
   "outputs": [],
   "source": [
    "x_cnd = x.drop('AMT_CREDIT', axis=1)\n",
    "x_train_cnd, x_test_cnd = train_test_split(x_cnd.values, random_state=0).copy()"
   ]
  },
  {
   "cell_type": "markdown",
   "id": "a31a5549-7ae8-4c70-98b2-27bed47a8741",
   "metadata": {},
   "source": [
    "### 評価"
   ]
  },
  {
   "cell_type": "code",
   "execution_count": 47,
   "id": "16c1e0d6-45d2-4493-b7f7-1142cda93e2a",
   "metadata": {},
   "outputs": [
    {
     "name": "stdout",
     "output_type": "stream",
     "text": [
      "[[2306    0]\n",
      " [ 194    0]]\n",
      "              precision    recall  f1-score   support\n",
      "\n",
      "           0       0.92      1.00      0.96      2306\n",
      "           1       0.00      0.00      0.00       194\n",
      "\n",
      "    accuracy                           0.92      2500\n",
      "   macro avg       0.46      0.50      0.48      2500\n",
      "weighted avg       0.85      0.92      0.89      2500\n",
      "\n"
     ]
    },
    {
     "name": "stderr",
     "output_type": "stream",
     "text": [
      "/opt/anaconda3/lib/python3.8/site-packages/sklearn/metrics/_classification.py:1245: UndefinedMetricWarning: Precision and F-score are ill-defined and being set to 0.0 in labels with no predicted samples. Use `zero_division` parameter to control this behavior.\n",
      "  _warn_prf(average, modifier, msg_start, len(result))\n",
      "/opt/anaconda3/lib/python3.8/site-packages/sklearn/metrics/_classification.py:1245: UndefinedMetricWarning: Precision and F-score are ill-defined and being set to 0.0 in labels with no predicted samples. Use `zero_division` parameter to control this behavior.\n",
      "  _warn_prf(average, modifier, msg_start, len(result))\n",
      "/opt/anaconda3/lib/python3.8/site-packages/sklearn/metrics/_classification.py:1245: UndefinedMetricWarning: Precision and F-score are ill-defined and being set to 0.0 in labels with no predicted samples. Use `zero_division` parameter to control this behavior.\n",
      "  _warn_prf(average, modifier, msg_start, len(result))\n"
     ]
    },
    {
     "data": {
      "text/html": [
       "<div>\n",
       "<style scoped>\n",
       "    .dataframe tbody tr th:only-of-type {\n",
       "        vertical-align: middle;\n",
       "    }\n",
       "\n",
       "    .dataframe tbody tr th {\n",
       "        vertical-align: top;\n",
       "    }\n",
       "\n",
       "    .dataframe thead th {\n",
       "        text-align: right;\n",
       "    }\n",
       "</style>\n",
       "<table border=\"1\" class=\"dataframe\">\n",
       "  <thead>\n",
       "    <tr style=\"text-align: right;\">\n",
       "      <th></th>\n",
       "      <th>th_all</th>\n",
       "      <th>tpr_all</th>\n",
       "      <th>fpr_all</th>\n",
       "    </tr>\n",
       "  </thead>\n",
       "  <tbody>\n",
       "    <tr>\n",
       "      <th>0</th>\n",
       "      <td>1.222674</td>\n",
       "      <td>0.000000</td>\n",
       "      <td>0.000000</td>\n",
       "    </tr>\n",
       "    <tr>\n",
       "      <th>1</th>\n",
       "      <td>0.222674</td>\n",
       "      <td>0.000000</td>\n",
       "      <td>0.000434</td>\n",
       "    </tr>\n",
       "    <tr>\n",
       "      <th>2</th>\n",
       "      <td>0.220917</td>\n",
       "      <td>0.000000</td>\n",
       "      <td>0.002168</td>\n",
       "    </tr>\n",
       "    <tr>\n",
       "      <th>3</th>\n",
       "      <td>0.219641</td>\n",
       "      <td>0.005155</td>\n",
       "      <td>0.002168</td>\n",
       "    </tr>\n",
       "    <tr>\n",
       "      <th>4</th>\n",
       "      <td>0.215379</td>\n",
       "      <td>0.005155</td>\n",
       "      <td>0.003469</td>\n",
       "    </tr>\n",
       "    <tr>\n",
       "      <th>...</th>\n",
       "      <td>...</td>\n",
       "      <td>...</td>\n",
       "      <td>...</td>\n",
       "    </tr>\n",
       "    <tr>\n",
       "      <th>450</th>\n",
       "      <td>0.018547</td>\n",
       "      <td>0.989691</td>\n",
       "      <td>0.990026</td>\n",
       "    </tr>\n",
       "    <tr>\n",
       "      <th>451</th>\n",
       "      <td>0.018462</td>\n",
       "      <td>0.994845</td>\n",
       "      <td>0.990026</td>\n",
       "    </tr>\n",
       "    <tr>\n",
       "      <th>452</th>\n",
       "      <td>0.017579</td>\n",
       "      <td>0.994845</td>\n",
       "      <td>0.997398</td>\n",
       "    </tr>\n",
       "    <tr>\n",
       "      <th>453</th>\n",
       "      <td>0.017357</td>\n",
       "      <td>1.000000</td>\n",
       "      <td>0.997398</td>\n",
       "    </tr>\n",
       "    <tr>\n",
       "      <th>454</th>\n",
       "      <td>0.016876</td>\n",
       "      <td>1.000000</td>\n",
       "      <td>1.000000</td>\n",
       "    </tr>\n",
       "  </tbody>\n",
       "</table>\n",
       "<p>455 rows × 3 columns</p>\n",
       "</div>"
      ],
      "text/plain": [
       "       th_all   tpr_all   fpr_all\n",
       "0    1.222674  0.000000  0.000000\n",
       "1    0.222674  0.000000  0.000434\n",
       "2    0.220917  0.000000  0.002168\n",
       "3    0.219641  0.005155  0.002168\n",
       "4    0.215379  0.005155  0.003469\n",
       "..        ...       ...       ...\n",
       "450  0.018547  0.989691  0.990026\n",
       "451  0.018462  0.994845  0.990026\n",
       "452  0.017579  0.994845  0.997398\n",
       "453  0.017357  1.000000  0.997398\n",
       "454  0.016876  1.000000  1.000000\n",
       "\n",
       "[455 rows x 3 columns]"
      ]
     },
     "metadata": {},
     "output_type": "display_data"
    },
    {
     "name": "stdout",
     "output_type": "stream",
     "text": [
      "AUC : 0.6005422877120198\n"
     ]
    },
    {
     "data": {
      "image/png": "[encoded data removed]",
      "text/plain": [
       "<Figure size 432x288 with 1 Axes>"
      ]
     },
     "metadata": {
      "needs_background": "light"
     },
     "output_type": "display_data"
    }
   ],
   "source": [
    "logi_cnd = LogisticRegression()\n",
    "logi_cnd.fit(x_train_cnd, y_train)\n",
    "logi_cnd_pred = logi_cnd.predict(x_test_cnd)\n",
    "logi_cnd_confusion = me.confusion_matrix(y_true, logi_cnd_pred) \n",
    "print(logi_cnd_confusion) # 混同行列\n",
    "print(classification_report(y_true, logi_cnd_pred))\n",
    "fpr_all, tpr_all, th_all  = me.roc_curve(y_true, logi_cnd.predict_proba(x_test_cnd)[:, 1], pos_label=1)# 正解ラベル１を1に設定、なのでみるべきなのは0を取る時の確率密度\n",
    "df_roc = pd.DataFrame({'th_all': th_all, 'tpr_all': tpr_all, 'fpr_all': fpr_all}) # 閾値、再現率(recall)、陰性を間違えて陽性と判断した場合\n",
    "plt.plot(fpr_all, tpr_all, marker='o')\n",
    "plt.xlabel('FPR: False positive rate')\n",
    "plt.ylabel('TPR: True positive rate')\n",
    "plt.grid()\n",
    "display(df_roc)\n",
    "print('AUC : {}'.format(roc_auc_score(y_true, logi_cnd.predict_proba(x_test_cnd)[:, 1])))"
   ]
  },
  {
   "cell_type": "markdown",
   "id": "92586dd1-8b26-4dc8-93fe-6ff213e08b1b",
   "metadata": {},
   "source": [
    "特徴量を削減することでスコアは若干下がった  \n",
    "追加すれば上がるかも！　　\n",
    "\n",
    "\n",
    "\n",
    "ちなみに他のデータを削ると"
   ]
  },
  {
   "cell_type": "code",
   "execution_count": 48,
   "id": "510f4a07-0ab9-4797-aecd-75010023dbb2",
   "metadata": {},
   "outputs": [],
   "source": [
    "x_nad = x.drop('CODE_GENDER', axis=1)\n",
    "x_train_nad, x_test_nad = train_test_split(x_nad.values, random_state=0).copy()"
   ]
  },
  {
   "cell_type": "code",
   "execution_count": 49,
   "id": "196e02e6-58c6-48ad-8d3d-08d86bf13455",
   "metadata": {},
   "outputs": [
    {
     "name": "stdout",
     "output_type": "stream",
     "text": [
      "[[2306    0]\n",
      " [ 194    0]]\n",
      "              precision    recall  f1-score   support\n",
      "\n",
      "           0       0.92      1.00      0.96      2306\n",
      "           1       0.00      0.00      0.00       194\n",
      "\n",
      "    accuracy                           0.92      2500\n",
      "   macro avg       0.46      0.50      0.48      2500\n",
      "weighted avg       0.85      0.92      0.89      2500\n",
      "\n"
     ]
    },
    {
     "name": "stderr",
     "output_type": "stream",
     "text": [
      "/opt/anaconda3/lib/python3.8/site-packages/sklearn/metrics/_classification.py:1245: UndefinedMetricWarning: Precision and F-score are ill-defined and being set to 0.0 in labels with no predicted samples. Use `zero_division` parameter to control this behavior.\n",
      "  _warn_prf(average, modifier, msg_start, len(result))\n",
      "/opt/anaconda3/lib/python3.8/site-packages/sklearn/metrics/_classification.py:1245: UndefinedMetricWarning: Precision and F-score are ill-defined and being set to 0.0 in labels with no predicted samples. Use `zero_division` parameter to control this behavior.\n",
      "  _warn_prf(average, modifier, msg_start, len(result))\n",
      "/opt/anaconda3/lib/python3.8/site-packages/sklearn/metrics/_classification.py:1245: UndefinedMetricWarning: Precision and F-score are ill-defined and being set to 0.0 in labels with no predicted samples. Use `zero_division` parameter to control this behavior.\n",
      "  _warn_prf(average, modifier, msg_start, len(result))\n"
     ]
    },
    {
     "data": {
      "text/html": [
       "<div>\n",
       "<style scoped>\n",
       "    .dataframe tbody tr th:only-of-type {\n",
       "        vertical-align: middle;\n",
       "    }\n",
       "\n",
       "    .dataframe tbody tr th {\n",
       "        vertical-align: top;\n",
       "    }\n",
       "\n",
       "    .dataframe thead th {\n",
       "        text-align: right;\n",
       "    }\n",
       "</style>\n",
       "<table border=\"1\" class=\"dataframe\">\n",
       "  <thead>\n",
       "    <tr style=\"text-align: right;\">\n",
       "      <th></th>\n",
       "      <th>th_all</th>\n",
       "      <th>tpr_all</th>\n",
       "      <th>fpr_all</th>\n",
       "    </tr>\n",
       "  </thead>\n",
       "  <tbody>\n",
       "    <tr>\n",
       "      <th>0</th>\n",
       "      <td>1.232335</td>\n",
       "      <td>0.000000</td>\n",
       "      <td>0.000000</td>\n",
       "    </tr>\n",
       "    <tr>\n",
       "      <th>1</th>\n",
       "      <td>0.232335</td>\n",
       "      <td>0.000000</td>\n",
       "      <td>0.000434</td>\n",
       "    </tr>\n",
       "    <tr>\n",
       "      <th>2</th>\n",
       "      <td>0.230754</td>\n",
       "      <td>0.000000</td>\n",
       "      <td>0.001301</td>\n",
       "    </tr>\n",
       "    <tr>\n",
       "      <th>3</th>\n",
       "      <td>0.229561</td>\n",
       "      <td>0.005155</td>\n",
       "      <td>0.001301</td>\n",
       "    </tr>\n",
       "    <tr>\n",
       "      <th>4</th>\n",
       "      <td>0.210383</td>\n",
       "      <td>0.005155</td>\n",
       "      <td>0.012142</td>\n",
       "    </tr>\n",
       "    <tr>\n",
       "      <th>...</th>\n",
       "      <td>...</td>\n",
       "      <td>...</td>\n",
       "      <td>...</td>\n",
       "    </tr>\n",
       "    <tr>\n",
       "      <th>353</th>\n",
       "      <td>0.023893</td>\n",
       "      <td>0.989691</td>\n",
       "      <td>0.969644</td>\n",
       "    </tr>\n",
       "    <tr>\n",
       "      <th>354</th>\n",
       "      <td>0.017928</td>\n",
       "      <td>0.989691</td>\n",
       "      <td>0.996964</td>\n",
       "    </tr>\n",
       "    <tr>\n",
       "      <th>355</th>\n",
       "      <td>0.017884</td>\n",
       "      <td>0.994845</td>\n",
       "      <td>0.996964</td>\n",
       "    </tr>\n",
       "    <tr>\n",
       "      <th>356</th>\n",
       "      <td>0.014933</td>\n",
       "      <td>0.994845</td>\n",
       "      <td>1.000000</td>\n",
       "    </tr>\n",
       "    <tr>\n",
       "      <th>357</th>\n",
       "      <td>0.009563</td>\n",
       "      <td>1.000000</td>\n",
       "      <td>1.000000</td>\n",
       "    </tr>\n",
       "  </tbody>\n",
       "</table>\n",
       "<p>358 rows × 3 columns</p>\n",
       "</div>"
      ],
      "text/plain": [
       "       th_all   tpr_all   fpr_all\n",
       "0    1.232335  0.000000  0.000000\n",
       "1    0.232335  0.000000  0.000434\n",
       "2    0.230754  0.000000  0.001301\n",
       "3    0.229561  0.005155  0.001301\n",
       "4    0.210383  0.005155  0.012142\n",
       "..        ...       ...       ...\n",
       "353  0.023893  0.989691  0.969644\n",
       "354  0.017928  0.989691  0.996964\n",
       "355  0.017884  0.994845  0.996964\n",
       "356  0.014933  0.994845  1.000000\n",
       "357  0.009563  1.000000  1.000000\n",
       "\n",
       "[358 rows x 3 columns]"
      ]
     },
     "metadata": {},
     "output_type": "display_data"
    },
    {
     "name": "stdout",
     "output_type": "stream",
     "text": [
      "AUC : 0.6148863118176697\n"
     ]
    },
    {
     "data": {
      "image/png": "[encoded data removed]",
      "text/plain": [
       "<Figure size 432x288 with 1 Axes>"
      ]
     },
     "metadata": {
      "needs_background": "light"
     },
     "output_type": "display_data"
    }
   ],
   "source": [
    "logi_nad = LogisticRegression()\n",
    "logi_nad.fit(x_train_nad, y_train)\n",
    "logi_nad_pred = logi_nad.predict(x_test_nad)\n",
    "logi_nad_confusion = me.confusion_matrix(y_true, logi_nad_pred) \n",
    "print(logi_nad_confusion) # 混同行列\n",
    "print(classification_report(y_true, logi_nad_pred))\n",
    "fpr_all, tpr_all, th_all  = me.roc_curve(y_true, logi_nad.predict_proba(x_test_nad)[:, 1], pos_label=1)# 正解ラベル１を1に設定、なのでみるべきなのは0を取る時の確率密度\n",
    "df_roc = pd.DataFrame({'th_all': th_all, 'tpr_all': tpr_all, 'fpr_all': fpr_all}) # 閾値、再現率(recall)、陰性を間違えて陽性と判断した場合\n",
    "plt.plot(fpr_all, tpr_all, marker='o')\n",
    "plt.xlabel('FPR: False positive rate')\n",
    "plt.ylabel('TPR: True positive rate')\n",
    "plt.grid()\n",
    "display(df_roc)\n",
    "print('AUC : {}'.format(roc_auc_score(y_true, logi_nad.predict_proba(x_test_nad)[:, 1])))"
   ]
  },
  {
   "cell_type": "markdown",
   "id": "5a2c09b8-6218-4fa3-a75b-f1f9e8a144c1",
   "metadata": {},
   "source": [
    "genderを削除してもスコアは下がった！"
   ]
  },
  {
   "cell_type": "code",
   "execution_count": 50,
   "id": "006fbe18-491b-425e-9058-6795ab2282d4",
   "metadata": {},
   "outputs": [],
   "source": [
    "x_gad = x.drop('NAME_FAMILY_STATUS', axis=1)\n",
    "x_train_gad, x_test_gad = train_test_split(x_gad.values, random_state=0).copy()"
   ]
  },
  {
   "cell_type": "code",
   "execution_count": 51,
   "id": "525e6d0d-fcfa-4c57-9e25-444437e31c7a",
   "metadata": {},
   "outputs": [
    {
     "name": "stdout",
     "output_type": "stream",
     "text": [
      "[[2306    0]\n",
      " [ 194    0]]\n",
      "              precision    recall  f1-score   support\n",
      "\n",
      "           0       0.92      1.00      0.96      2306\n",
      "           1       0.00      0.00      0.00       194\n",
      "\n",
      "    accuracy                           0.92      2500\n",
      "   macro avg       0.46      0.50      0.48      2500\n",
      "weighted avg       0.85      0.92      0.89      2500\n",
      "\n"
     ]
    },
    {
     "name": "stderr",
     "output_type": "stream",
     "text": [
      "/opt/anaconda3/lib/python3.8/site-packages/sklearn/metrics/_classification.py:1245: UndefinedMetricWarning: Precision and F-score are ill-defined and being set to 0.0 in labels with no predicted samples. Use `zero_division` parameter to control this behavior.\n",
      "  _warn_prf(average, modifier, msg_start, len(result))\n",
      "/opt/anaconda3/lib/python3.8/site-packages/sklearn/metrics/_classification.py:1245: UndefinedMetricWarning: Precision and F-score are ill-defined and being set to 0.0 in labels with no predicted samples. Use `zero_division` parameter to control this behavior.\n",
      "  _warn_prf(average, modifier, msg_start, len(result))\n",
      "/opt/anaconda3/lib/python3.8/site-packages/sklearn/metrics/_classification.py:1245: UndefinedMetricWarning: Precision and F-score are ill-defined and being set to 0.0 in labels with no predicted samples. Use `zero_division` parameter to control this behavior.\n",
      "  _warn_prf(average, modifier, msg_start, len(result))\n"
     ]
    },
    {
     "data": {
      "text/html": [
       "<div>\n",
       "<style scoped>\n",
       "    .dataframe tbody tr th:only-of-type {\n",
       "        vertical-align: middle;\n",
       "    }\n",
       "\n",
       "    .dataframe tbody tr th {\n",
       "        vertical-align: top;\n",
       "    }\n",
       "\n",
       "    .dataframe thead th {\n",
       "        text-align: right;\n",
       "    }\n",
       "</style>\n",
       "<table border=\"1\" class=\"dataframe\">\n",
       "  <thead>\n",
       "    <tr style=\"text-align: right;\">\n",
       "      <th></th>\n",
       "      <th>th_all</th>\n",
       "      <th>tpr_all</th>\n",
       "      <th>fpr_all</th>\n",
       "    </tr>\n",
       "  </thead>\n",
       "  <tbody>\n",
       "    <tr>\n",
       "      <th>0</th>\n",
       "      <td>1.232335</td>\n",
       "      <td>0.000000</td>\n",
       "      <td>0.000000</td>\n",
       "    </tr>\n",
       "    <tr>\n",
       "      <th>1</th>\n",
       "      <td>0.232335</td>\n",
       "      <td>0.000000</td>\n",
       "      <td>0.000434</td>\n",
       "    </tr>\n",
       "    <tr>\n",
       "      <th>2</th>\n",
       "      <td>0.230754</td>\n",
       "      <td>0.000000</td>\n",
       "      <td>0.001301</td>\n",
       "    </tr>\n",
       "    <tr>\n",
       "      <th>3</th>\n",
       "      <td>0.229561</td>\n",
       "      <td>0.005155</td>\n",
       "      <td>0.001301</td>\n",
       "    </tr>\n",
       "    <tr>\n",
       "      <th>4</th>\n",
       "      <td>0.210383</td>\n",
       "      <td>0.005155</td>\n",
       "      <td>0.012142</td>\n",
       "    </tr>\n",
       "    <tr>\n",
       "      <th>...</th>\n",
       "      <td>...</td>\n",
       "      <td>...</td>\n",
       "      <td>...</td>\n",
       "    </tr>\n",
       "    <tr>\n",
       "      <th>353</th>\n",
       "      <td>0.023893</td>\n",
       "      <td>0.989691</td>\n",
       "      <td>0.969644</td>\n",
       "    </tr>\n",
       "    <tr>\n",
       "      <th>354</th>\n",
       "      <td>0.017928</td>\n",
       "      <td>0.989691</td>\n",
       "      <td>0.996964</td>\n",
       "    </tr>\n",
       "    <tr>\n",
       "      <th>355</th>\n",
       "      <td>0.017884</td>\n",
       "      <td>0.994845</td>\n",
       "      <td>0.996964</td>\n",
       "    </tr>\n",
       "    <tr>\n",
       "      <th>356</th>\n",
       "      <td>0.014933</td>\n",
       "      <td>0.994845</td>\n",
       "      <td>1.000000</td>\n",
       "    </tr>\n",
       "    <tr>\n",
       "      <th>357</th>\n",
       "      <td>0.009563</td>\n",
       "      <td>1.000000</td>\n",
       "      <td>1.000000</td>\n",
       "    </tr>\n",
       "  </tbody>\n",
       "</table>\n",
       "<p>358 rows × 3 columns</p>\n",
       "</div>"
      ],
      "text/plain": [
       "       th_all   tpr_all   fpr_all\n",
       "0    1.232335  0.000000  0.000000\n",
       "1    0.232335  0.000000  0.000434\n",
       "2    0.230754  0.000000  0.001301\n",
       "3    0.229561  0.005155  0.001301\n",
       "4    0.210383  0.005155  0.012142\n",
       "..        ...       ...       ...\n",
       "353  0.023893  0.989691  0.969644\n",
       "354  0.017928  0.989691  0.996964\n",
       "355  0.017884  0.994845  0.996964\n",
       "356  0.014933  0.994845  1.000000\n",
       "357  0.009563  1.000000  1.000000\n",
       "\n",
       "[358 rows x 3 columns]"
      ]
     },
     "metadata": {},
     "output_type": "display_data"
    },
    {
     "name": "stdout",
     "output_type": "stream",
     "text": [
      "AUC : 0.6148863118176697\n"
     ]
    },
    {
     "data": {
      "image/png": "[encoded data removed]",
      "text/plain": [
       "<Figure size 432x288 with 1 Axes>"
      ]
     },
     "metadata": {
      "needs_background": "light"
     },
     "output_type": "display_data"
    }
   ],
   "source": [
    "logi_gad = LogisticRegression()\n",
    "logi_gad.fit(x_train_gad, y_train)\n",
    "logi_gad_pred = logi_gad.predict(x_test_gad)\n",
    "logi_gad_confusion = me.confusion_matrix(y_true, logi_gad_pred) \n",
    "print(logi_gad_confusion) # 混同行列\n",
    "print(classification_report(y_true, logi_gad_pred))\n",
    "fpr_all, tpr_all, th_all  = me.roc_curve(y_true, logi_gad.predict_proba(x_test_gad)[:, 1], pos_label=1)# 正解ラベル１を1に設定、なのでみるべきなのは0を取る時の確率密度\n",
    "df_roc = pd.DataFrame({'th_all': th_all, 'tpr_all': tpr_all, 'fpr_all': fpr_all}) # 閾値、再現率(recall)、陰性を間違えて陽性と判断した場合\n",
    "plt.plot(fpr_all, tpr_all, marker='o')\n",
    "plt.xlabel('FPR: False positive rate')\n",
    "plt.ylabel('TPR: True positive rate')\n",
    "plt.grid()\n",
    "display(df_roc)\n",
    "print('AUC : {}'.format(roc_auc_score(y_true, logi_gad.predict_proba(x_test_gad)[:, 1])))"
   ]
  },
  {
   "cell_type": "markdown",
   "id": "0a6c9e02-5185-4322-985e-9c21b2e35197",
   "metadata": {},
   "source": [
    "genderを削った時と全く同じスコアになった。  \n",
    "ということは全く同じ重みになってる？  \n",
    "あるいはカテゴリー系の重みは一定なのか？"
   ]
  },
  {
   "cell_type": "code",
   "execution_count": 52,
   "id": "26747a67-7bae-484d-85fb-5e2f56d92911",
   "metadata": {},
   "outputs": [],
   "source": [
    "x_gan = x.drop('DAYS_BIRTH', axis=1)\n",
    "x_train_gan, x_test_gan = train_test_split(x_gan.values, random_state=0).copy()"
   ]
  },
  {
   "cell_type": "code",
   "execution_count": 53,
   "id": "4759b8dd-1b08-4ee2-8110-9464453dca5a",
   "metadata": {},
   "outputs": [
    {
     "name": "stdout",
     "output_type": "stream",
     "text": [
      "[[2306    0]\n",
      " [ 194    0]]\n",
      "              precision    recall  f1-score   support\n",
      "\n",
      "           0       0.92      1.00      0.96      2306\n",
      "           1       0.00      0.00      0.00       194\n",
      "\n",
      "    accuracy                           0.92      2500\n",
      "   macro avg       0.46      0.50      0.48      2500\n",
      "weighted avg       0.85      0.92      0.89      2500\n",
      "\n"
     ]
    },
    {
     "name": "stderr",
     "output_type": "stream",
     "text": [
      "/opt/anaconda3/lib/python3.8/site-packages/sklearn/metrics/_classification.py:1245: UndefinedMetricWarning: Precision and F-score are ill-defined and being set to 0.0 in labels with no predicted samples. Use `zero_division` parameter to control this behavior.\n",
      "  _warn_prf(average, modifier, msg_start, len(result))\n",
      "/opt/anaconda3/lib/python3.8/site-packages/sklearn/metrics/_classification.py:1245: UndefinedMetricWarning: Precision and F-score are ill-defined and being set to 0.0 in labels with no predicted samples. Use `zero_division` parameter to control this behavior.\n",
      "  _warn_prf(average, modifier, msg_start, len(result))\n",
      "/opt/anaconda3/lib/python3.8/site-packages/sklearn/metrics/_classification.py:1245: UndefinedMetricWarning: Precision and F-score are ill-defined and being set to 0.0 in labels with no predicted samples. Use `zero_division` parameter to control this behavior.\n",
      "  _warn_prf(average, modifier, msg_start, len(result))\n"
     ]
    },
    {
     "data": {
      "text/html": [
       "<div>\n",
       "<style scoped>\n",
       "    .dataframe tbody tr th:only-of-type {\n",
       "        vertical-align: middle;\n",
       "    }\n",
       "\n",
       "    .dataframe tbody tr th {\n",
       "        vertical-align: top;\n",
       "    }\n",
       "\n",
       "    .dataframe thead th {\n",
       "        text-align: right;\n",
       "    }\n",
       "</style>\n",
       "<table border=\"1\" class=\"dataframe\">\n",
       "  <thead>\n",
       "    <tr style=\"text-align: right;\">\n",
       "      <th></th>\n",
       "      <th>th_all</th>\n",
       "      <th>tpr_all</th>\n",
       "      <th>fpr_all</th>\n",
       "    </tr>\n",
       "  </thead>\n",
       "  <tbody>\n",
       "    <tr>\n",
       "      <th>0</th>\n",
       "      <td>1.452972</td>\n",
       "      <td>0.000000</td>\n",
       "      <td>0.000000</td>\n",
       "    </tr>\n",
       "    <tr>\n",
       "      <th>1</th>\n",
       "      <td>0.452972</td>\n",
       "      <td>0.000000</td>\n",
       "      <td>0.000434</td>\n",
       "    </tr>\n",
       "    <tr>\n",
       "      <th>2</th>\n",
       "      <td>0.452972</td>\n",
       "      <td>0.000000</td>\n",
       "      <td>0.000867</td>\n",
       "    </tr>\n",
       "    <tr>\n",
       "      <th>3</th>\n",
       "      <td>0.449888</td>\n",
       "      <td>0.000000</td>\n",
       "      <td>0.001735</td>\n",
       "    </tr>\n",
       "    <tr>\n",
       "      <th>4</th>\n",
       "      <td>0.449888</td>\n",
       "      <td>0.000000</td>\n",
       "      <td>0.002168</td>\n",
       "    </tr>\n",
       "    <tr>\n",
       "      <th>...</th>\n",
       "      <td>...</td>\n",
       "      <td>...</td>\n",
       "      <td>...</td>\n",
       "    </tr>\n",
       "    <tr>\n",
       "      <th>675</th>\n",
       "      <td>0.000080</td>\n",
       "      <td>0.994845</td>\n",
       "      <td>0.997832</td>\n",
       "    </tr>\n",
       "    <tr>\n",
       "      <th>676</th>\n",
       "      <td>0.000035</td>\n",
       "      <td>0.994845</td>\n",
       "      <td>0.998699</td>\n",
       "    </tr>\n",
       "    <tr>\n",
       "      <th>677</th>\n",
       "      <td>0.000026</td>\n",
       "      <td>0.994845</td>\n",
       "      <td>0.999566</td>\n",
       "    </tr>\n",
       "    <tr>\n",
       "      <th>678</th>\n",
       "      <td>0.000012</td>\n",
       "      <td>0.994845</td>\n",
       "      <td>1.000000</td>\n",
       "    </tr>\n",
       "    <tr>\n",
       "      <th>679</th>\n",
       "      <td>0.000004</td>\n",
       "      <td>1.000000</td>\n",
       "      <td>1.000000</td>\n",
       "    </tr>\n",
       "  </tbody>\n",
       "</table>\n",
       "<p>680 rows × 3 columns</p>\n",
       "</div>"
      ],
      "text/plain": [
       "       th_all   tpr_all   fpr_all\n",
       "0    1.452972  0.000000  0.000000\n",
       "1    0.452972  0.000000  0.000434\n",
       "2    0.452972  0.000000  0.000867\n",
       "3    0.449888  0.000000  0.001735\n",
       "4    0.449888  0.000000  0.002168\n",
       "..        ...       ...       ...\n",
       "675  0.000080  0.994845  0.997832\n",
       "676  0.000035  0.994845  0.998699\n",
       "677  0.000026  0.994845  0.999566\n",
       "678  0.000012  0.994845  1.000000\n",
       "679  0.000004  1.000000  1.000000\n",
       "\n",
       "[680 rows x 3 columns]"
      ]
     },
     "metadata": {},
     "output_type": "display_data"
    },
    {
     "name": "stdout",
     "output_type": "stream",
     "text": [
      "AUC : 0.5660345937536324\n"
     ]
    },
    {
     "data": {
      "image/png": "[encoded data removed]",
      "text/plain": [
       "<Figure size 432x288 with 1 Axes>"
      ]
     },
     "metadata": {
      "needs_background": "light"
     },
     "output_type": "display_data"
    }
   ],
   "source": [
    "logi_gan = LogisticRegression()\n",
    "logi_gan.fit(x_train_gan, y_train)\n",
    "logi_gan_pred = logi_gan.predict(x_test_gan)\n",
    "logi_gan_confusion = me.confusion_matrix(y_true, logi_gan_pred) \n",
    "print(logi_gan_confusion) # 混同行列\n",
    "print(classification_report(y_true, logi_gan_pred))\n",
    "fpr_all, tpr_all, th_all  = me.roc_curve(y_true, logi_gan.predict_proba(x_test_gan)[:, 1], pos_label=1)# 正解ラベル１を1に設定、なのでみるべきなのは0を取る時の確率密度\n",
    "df_roc = pd.DataFrame({'th_all': th_all, 'tpr_all': tpr_all, 'fpr_all': fpr_all}) # 閾値、再現率(recall)、陰性を間違えて陽性と判断した場合\n",
    "plt.plot(fpr_all, tpr_all, marker='o')\n",
    "plt.xlabel('FPR: False positive rate')\n",
    "plt.ylabel('TPR: True positive rate')\n",
    "plt.grid()\n",
    "display(df_roc)\n",
    "print('AUC : {}'.format(roc_auc_score(y_true, logi_gan.predict_proba(x_test_gan)[:, 1])))"
   ]
  },
  {
   "cell_type": "markdown",
   "id": "2f653195-f806-4471-af28-8bb023fed48d",
   "metadata": {},
   "source": [
    "ものすごく下がった。4パターン全て行いわかったのが重要度は\n",
    "1. DAYS_BIRTH \n",
    "2. AMT_CREDIT \n",
    "3. CODE_GENDER = NAME_FAMILY_STATUS \n",
    "  \n",
    "の順番だった！"
   ]
  },
  {
   "cell_type": "markdown",
   "id": "7b366252-562a-4c6c-a27a-7bcedbd46597",
   "metadata": {},
   "source": [
    "## 特徴量の追加\n",
    "次に良さそうだったAMT_INCOME_TOTALを追加"
   ]
  },
  {
   "cell_type": "code",
   "execution_count": 54,
   "id": "5cd5c771-7345-4c36-8d39-1ee4434cb564",
   "metadata": {},
   "outputs": [],
   "source": [
    "x2 = df[['CODE_GENDER', 'NAME_FAMILY_STATUS', 'AMT_CREDIT', 'DAYS_BIRTH', 'AMT_INCOME_TOTAL']].copy()\n",
    "x2['CODE_GENDER'] = x2['CODE_GENDER'].map({'M' : 0, 'F' : 1}).astype(int) # 性別のダミー変数\n",
    "x2['NAME_FAMILY_STATUS'] = x2['NAME_FAMILY_STATUS'].map({'Civil marriage' : 0, 'Married' : 1, 'Separated' : 2, 'Single / not married' : 3, 'Widow' : 4}).astype(int) # 性別のダミー変数\n",
    "x2_train, x2_test = train_test_split(x2.values, random_state=0).copy()"
   ]
  },
  {
   "cell_type": "markdown",
   "id": "1f2f4c4b-8392-496f-bfac-8940e17619b1",
   "metadata": {},
   "source": [
    "### 評価"
   ]
  },
  {
   "cell_type": "code",
   "execution_count": 55,
   "id": "37767353-139f-4917-8e09-4db55f361784",
   "metadata": {},
   "outputs": [
    {
     "name": "stdout",
     "output_type": "stream",
     "text": [
      "[[2306    0]\n",
      " [ 194    0]]\n",
      "              precision    recall  f1-score   support\n",
      "\n",
      "           0       0.92      1.00      0.96      2306\n",
      "           1       0.00      0.00      0.00       194\n",
      "\n",
      "    accuracy                           0.92      2500\n",
      "   macro avg       0.46      0.50      0.48      2500\n",
      "weighted avg       0.85      0.92      0.89      2500\n",
      "\n"
     ]
    },
    {
     "name": "stderr",
     "output_type": "stream",
     "text": [
      "/opt/anaconda3/lib/python3.8/site-packages/sklearn/metrics/_classification.py:1245: UndefinedMetricWarning: Precision and F-score are ill-defined and being set to 0.0 in labels with no predicted samples. Use `zero_division` parameter to control this behavior.\n",
      "  _warn_prf(average, modifier, msg_start, len(result))\n",
      "/opt/anaconda3/lib/python3.8/site-packages/sklearn/metrics/_classification.py:1245: UndefinedMetricWarning: Precision and F-score are ill-defined and being set to 0.0 in labels with no predicted samples. Use `zero_division` parameter to control this behavior.\n",
      "  _warn_prf(average, modifier, msg_start, len(result))\n",
      "/opt/anaconda3/lib/python3.8/site-packages/sklearn/metrics/_classification.py:1245: UndefinedMetricWarning: Precision and F-score are ill-defined and being set to 0.0 in labels with no predicted samples. Use `zero_division` parameter to control this behavior.\n",
      "  _warn_prf(average, modifier, msg_start, len(result))\n"
     ]
    },
    {
     "data": {
      "text/html": [
       "<div>\n",
       "<style scoped>\n",
       "    .dataframe tbody tr th:only-of-type {\n",
       "        vertical-align: middle;\n",
       "    }\n",
       "\n",
       "    .dataframe tbody tr th {\n",
       "        vertical-align: top;\n",
       "    }\n",
       "\n",
       "    .dataframe thead th {\n",
       "        text-align: right;\n",
       "    }\n",
       "</style>\n",
       "<table border=\"1\" class=\"dataframe\">\n",
       "  <thead>\n",
       "    <tr style=\"text-align: right;\">\n",
       "      <th></th>\n",
       "      <th>th_all</th>\n",
       "      <th>tpr_all</th>\n",
       "      <th>fpr_all</th>\n",
       "    </tr>\n",
       "  </thead>\n",
       "  <tbody>\n",
       "    <tr>\n",
       "      <th>0</th>\n",
       "      <td>1.231997</td>\n",
       "      <td>0.000000</td>\n",
       "      <td>0.000000</td>\n",
       "    </tr>\n",
       "    <tr>\n",
       "      <th>1</th>\n",
       "      <td>0.231997</td>\n",
       "      <td>0.000000</td>\n",
       "      <td>0.000434</td>\n",
       "    </tr>\n",
       "    <tr>\n",
       "      <th>2</th>\n",
       "      <td>0.223233</td>\n",
       "      <td>0.000000</td>\n",
       "      <td>0.002168</td>\n",
       "    </tr>\n",
       "    <tr>\n",
       "      <th>3</th>\n",
       "      <td>0.218610</td>\n",
       "      <td>0.005155</td>\n",
       "      <td>0.002168</td>\n",
       "    </tr>\n",
       "    <tr>\n",
       "      <th>4</th>\n",
       "      <td>0.202633</td>\n",
       "      <td>0.005155</td>\n",
       "      <td>0.007372</td>\n",
       "    </tr>\n",
       "    <tr>\n",
       "      <th>...</th>\n",
       "      <td>...</td>\n",
       "      <td>...</td>\n",
       "      <td>...</td>\n",
       "    </tr>\n",
       "    <tr>\n",
       "      <th>348</th>\n",
       "      <td>0.014631</td>\n",
       "      <td>0.989691</td>\n",
       "      <td>0.996964</td>\n",
       "    </tr>\n",
       "    <tr>\n",
       "      <th>349</th>\n",
       "      <td>0.014470</td>\n",
       "      <td>0.994845</td>\n",
       "      <td>0.996964</td>\n",
       "    </tr>\n",
       "    <tr>\n",
       "      <th>350</th>\n",
       "      <td>0.010516</td>\n",
       "      <td>0.994845</td>\n",
       "      <td>0.999133</td>\n",
       "    </tr>\n",
       "    <tr>\n",
       "      <th>351</th>\n",
       "      <td>0.007913</td>\n",
       "      <td>1.000000</td>\n",
       "      <td>0.999133</td>\n",
       "    </tr>\n",
       "    <tr>\n",
       "      <th>352</th>\n",
       "      <td>0.002424</td>\n",
       "      <td>1.000000</td>\n",
       "      <td>1.000000</td>\n",
       "    </tr>\n",
       "  </tbody>\n",
       "</table>\n",
       "<p>353 rows × 3 columns</p>\n",
       "</div>"
      ],
      "text/plain": [
       "       th_all   tpr_all   fpr_all\n",
       "0    1.231997  0.000000  0.000000\n",
       "1    0.231997  0.000000  0.000434\n",
       "2    0.223233  0.000000  0.002168\n",
       "3    0.218610  0.005155  0.002168\n",
       "4    0.202633  0.005155  0.007372\n",
       "..        ...       ...       ...\n",
       "348  0.014631  0.989691  0.996964\n",
       "349  0.014470  0.994845  0.996964\n",
       "350  0.010516  0.994845  0.999133\n",
       "351  0.007913  1.000000  0.999133\n",
       "352  0.002424  1.000000  1.000000\n",
       "\n",
       "[353 rows x 3 columns]"
      ]
     },
     "metadata": {},
     "output_type": "display_data"
    },
    {
     "name": "stdout",
     "output_type": "stream",
     "text": [
      "AUC : 0.6061864611367924\n"
     ]
    },
    {
     "data": {
      "image/png": "[encoded data removed]",
      "text/plain": [
       "<Figure size 432x288 with 1 Axes>"
      ]
     },
     "metadata": {
      "needs_background": "light"
     },
     "output_type": "display_data"
    }
   ],
   "source": [
    "logi2 = LogisticRegression()\n",
    "logi2.fit(x2_train, y_train)\n",
    "logi2_pred = logi2.predict(x2_test)\n",
    "logi2_confusion = me.confusion_matrix(y_true, logi2_pred) \n",
    "print(logi2_confusion)\n",
    "print(classification_report(y_true, logi2_pred))\n",
    "fpr_all, tpr_all, th_all  = me.roc_curve(y_true, logi2.predict_proba(x2_test)[:, 1], pos_label=1)# 正解ラベル１を1に設定、なのでみるべきなのは0を取る時の確率密度\n",
    "df_roc = pd.DataFrame({'th_all': th_all, 'tpr_all': tpr_all, 'fpr_all': fpr_all}) # 閾値、再現率(recall)、陰性を間違えて陽性と判断した場合\n",
    "plt.plot(fpr_all, tpr_all, marker='o')\n",
    "plt.xlabel('FPR: False positive rate')\n",
    "plt.ylabel('TPR: True positive rate')\n",
    "plt.grid()\n",
    "display(df_roc)\n",
    "print('AUC : {}'.format(roc_auc_score(y_true, logi2.predict_proba(x2_test)[:, 1])))"
   ]
  },
  {
   "cell_type": "markdown",
   "id": "3df45a00-6779-4552-baca-425a58d5bd43",
   "metadata": {},
   "source": [
    "がっつり下がった笑\n",
    "\n",
    "'DAYS_REGISTRATION'の場合"
   ]
  },
  {
   "cell_type": "code",
   "execution_count": 56,
   "id": "7fe49d74-5a74-4c8c-90d4-22c05487e8e2",
   "metadata": {},
   "outputs": [],
   "source": [
    "x3 = df[['CODE_GENDER', 'NAME_FAMILY_STATUS', 'AMT_CREDIT', 'DAYS_BIRTH', 'DAYS_REGISTRATION']].copy()\n",
    "x3['CODE_GENDER'] = x3['CODE_GENDER'].map({'M' : 0, 'F' : 1}).astype(int) # 性別のダミー変数\n",
    "x3['NAME_FAMILY_STATUS'] = x3['NAME_FAMILY_STATUS'].map({'Civil marriage' : 0, 'Married' : 1, 'Separated' : 2, 'Single / not married' : 3, 'Widow' : 4}).astype(int) # 性別のダミー変数\n",
    "x3_train, x3_test = train_test_split(x3.values, random_state=0).copy()"
   ]
  },
  {
   "cell_type": "code",
   "execution_count": 57,
   "id": "2007a7f9-7346-4c13-8f94-29195fa50032",
   "metadata": {},
   "outputs": [
    {
     "name": "stdout",
     "output_type": "stream",
     "text": [
      "[[2306    0]\n",
      " [ 194    0]]\n",
      "              precision    recall  f1-score   support\n",
      "\n",
      "           0       0.92      1.00      0.96      2306\n",
      "           1       0.00      0.00      0.00       194\n",
      "\n",
      "    accuracy                           0.92      2500\n",
      "   macro avg       0.46      0.50      0.48      2500\n",
      "weighted avg       0.85      0.92      0.89      2500\n",
      "\n"
     ]
    },
    {
     "name": "stderr",
     "output_type": "stream",
     "text": [
      "/opt/anaconda3/lib/python3.8/site-packages/sklearn/metrics/_classification.py:1245: UndefinedMetricWarning: Precision and F-score are ill-defined and being set to 0.0 in labels with no predicted samples. Use `zero_division` parameter to control this behavior.\n",
      "  _warn_prf(average, modifier, msg_start, len(result))\n",
      "/opt/anaconda3/lib/python3.8/site-packages/sklearn/metrics/_classification.py:1245: UndefinedMetricWarning: Precision and F-score are ill-defined and being set to 0.0 in labels with no predicted samples. Use `zero_division` parameter to control this behavior.\n",
      "  _warn_prf(average, modifier, msg_start, len(result))\n",
      "/opt/anaconda3/lib/python3.8/site-packages/sklearn/metrics/_classification.py:1245: UndefinedMetricWarning: Precision and F-score are ill-defined and being set to 0.0 in labels with no predicted samples. Use `zero_division` parameter to control this behavior.\n",
      "  _warn_prf(average, modifier, msg_start, len(result))\n"
     ]
    },
    {
     "data": {
      "text/html": [
       "<div>\n",
       "<style scoped>\n",
       "    .dataframe tbody tr th:only-of-type {\n",
       "        vertical-align: middle;\n",
       "    }\n",
       "\n",
       "    .dataframe tbody tr th {\n",
       "        vertical-align: top;\n",
       "    }\n",
       "\n",
       "    .dataframe thead th {\n",
       "        text-align: right;\n",
       "    }\n",
       "</style>\n",
       "<table border=\"1\" class=\"dataframe\">\n",
       "  <thead>\n",
       "    <tr style=\"text-align: right;\">\n",
       "      <th></th>\n",
       "      <th>th_all</th>\n",
       "      <th>tpr_all</th>\n",
       "      <th>fpr_all</th>\n",
       "    </tr>\n",
       "  </thead>\n",
       "  <tbody>\n",
       "    <tr>\n",
       "      <th>0</th>\n",
       "      <td>1.239070</td>\n",
       "      <td>0.000000</td>\n",
       "      <td>0.000000</td>\n",
       "    </tr>\n",
       "    <tr>\n",
       "      <th>1</th>\n",
       "      <td>0.239070</td>\n",
       "      <td>0.005155</td>\n",
       "      <td>0.000000</td>\n",
       "    </tr>\n",
       "    <tr>\n",
       "      <th>2</th>\n",
       "      <td>0.217746</td>\n",
       "      <td>0.005155</td>\n",
       "      <td>0.007372</td>\n",
       "    </tr>\n",
       "    <tr>\n",
       "      <th>3</th>\n",
       "      <td>0.217283</td>\n",
       "      <td>0.010309</td>\n",
       "      <td>0.007372</td>\n",
       "    </tr>\n",
       "    <tr>\n",
       "      <th>4</th>\n",
       "      <td>0.214259</td>\n",
       "      <td>0.010309</td>\n",
       "      <td>0.008673</td>\n",
       "    </tr>\n",
       "    <tr>\n",
       "      <th>...</th>\n",
       "      <td>...</td>\n",
       "      <td>...</td>\n",
       "      <td>...</td>\n",
       "    </tr>\n",
       "    <tr>\n",
       "      <th>349</th>\n",
       "      <td>0.023009</td>\n",
       "      <td>0.989691</td>\n",
       "      <td>0.962272</td>\n",
       "    </tr>\n",
       "    <tr>\n",
       "      <th>350</th>\n",
       "      <td>0.020727</td>\n",
       "      <td>0.989691</td>\n",
       "      <td>0.979185</td>\n",
       "    </tr>\n",
       "    <tr>\n",
       "      <th>351</th>\n",
       "      <td>0.020722</td>\n",
       "      <td>0.994845</td>\n",
       "      <td>0.979185</td>\n",
       "    </tr>\n",
       "    <tr>\n",
       "      <th>352</th>\n",
       "      <td>0.012058</td>\n",
       "      <td>0.994845</td>\n",
       "      <td>1.000000</td>\n",
       "    </tr>\n",
       "    <tr>\n",
       "      <th>353</th>\n",
       "      <td>0.010196</td>\n",
       "      <td>1.000000</td>\n",
       "      <td>1.000000</td>\n",
       "    </tr>\n",
       "  </tbody>\n",
       "</table>\n",
       "<p>354 rows × 3 columns</p>\n",
       "</div>"
      ],
      "text/plain": [
       "       th_all   tpr_all   fpr_all\n",
       "0    1.239070  0.000000  0.000000\n",
       "1    0.239070  0.005155  0.000000\n",
       "2    0.217746  0.005155  0.007372\n",
       "3    0.217283  0.010309  0.007372\n",
       "4    0.214259  0.010309  0.008673\n",
       "..        ...       ...       ...\n",
       "349  0.023009  0.989691  0.962272\n",
       "350  0.020727  0.989691  0.979185\n",
       "351  0.020722  0.994845  0.979185\n",
       "352  0.012058  0.994845  1.000000\n",
       "353  0.010196  1.000000  1.000000\n",
       "\n",
       "[354 rows x 3 columns]"
      ]
     },
     "metadata": {},
     "output_type": "display_data"
    },
    {
     "name": "stdout",
     "output_type": "stream",
     "text": [
      "AUC : 0.6171998640927746\n"
     ]
    },
    {
     "data": {
      "image/png": "[encoded data removed]",
      "text/plain": [
       "<Figure size 432x288 with 1 Axes>"
      ]
     },
     "metadata": {
      "needs_background": "light"
     },
     "output_type": "display_data"
    }
   ],
   "source": [
    "logi3 = LogisticRegression()\n",
    "logi3.fit(x3_train, y_train)\n",
    "logi3_pred = logi3.predict(x3_test)\n",
    "logi3_confusion = me.confusion_matrix(y_true, logi3_pred) \n",
    "print(logi3_confusion)\n",
    "print(classification_report(y_true, logi3_pred))\n",
    "fpr_all, tpr_all, th_all  = me.roc_curve(y_true, logi3.predict_proba(x3_test)[:, 1], pos_label=1)# 正解ラベル１を1に設定、なのでみるべきなのは0を取る時の確率密度\n",
    "df_roc = pd.DataFrame({'th_all': th_all, 'tpr_all': tpr_all, 'fpr_all': fpr_all}) # 閾値、再現率(recall)、陰性を間違えて陽性と判断した場合\n",
    "plt.plot(fpr_all, tpr_all, marker='o')\n",
    "plt.xlabel('FPR: False positive rate')\n",
    "plt.ylabel('TPR: True positive rate')\n",
    "plt.grid()\n",
    "display(df_roc)\n",
    "print('AUC : {}'.format(roc_auc_score(y_true, logi3.predict_proba(x3_test)[:, 1])))"
   ]
  },
  {
   "cell_type": "markdown",
   "id": "f93772b4-795f-41cf-ae84-9875a4473406",
   "metadata": {},
   "source": [
    "ほんとに若干だが上がった！  \n",
    "関係はあったみたい！"
   ]
  },
  {
   "cell_type": "markdown",
   "id": "deedf71f-e401-4768-bb3f-7b82a15a96fa",
   "metadata": {},
   "source": [
    "## 全データでの検証"
   ]
  },
  {
   "cell_type": "code",
   "execution_count": 58,
   "id": "39ab0ccb-b67a-4a6e-9b57-152f44d87a2c",
   "metadata": {},
   "outputs": [],
   "source": [
    "dff = dataset\n",
    "yf = dff['TARGET'].copy()\n",
    "xf = dff[['CODE_GENDER', 'NAME_FAMILY_STATUS', 'AMT_CREDIT', 'DAYS_BIRTH', 'DAYS_REGISTRATION']].copy()"
   ]
  },
  {
   "cell_type": "code",
   "execution_count": 59,
   "id": "ed9803e2-97f1-4552-810f-8418296a4d50",
   "metadata": {},
   "outputs": [
    {
     "data": {
      "text/html": [
       "<div>\n",
       "<style scoped>\n",
       "    .dataframe tbody tr th:only-of-type {\n",
       "        vertical-align: middle;\n",
       "    }\n",
       "\n",
       "    .dataframe tbody tr th {\n",
       "        vertical-align: top;\n",
       "    }\n",
       "\n",
       "    .dataframe thead th {\n",
       "        text-align: right;\n",
       "    }\n",
       "</style>\n",
       "<table border=\"1\" class=\"dataframe\">\n",
       "  <thead>\n",
       "    <tr style=\"text-align: right;\">\n",
       "      <th></th>\n",
       "      <th>unique_name</th>\n",
       "      <th>count</th>\n",
       "    </tr>\n",
       "  </thead>\n",
       "  <tbody>\n",
       "    <tr>\n",
       "      <th>M</th>\n",
       "      <td>F</td>\n",
       "      <td>202448</td>\n",
       "    </tr>\n",
       "    <tr>\n",
       "      <th>F</th>\n",
       "      <td>M</td>\n",
       "      <td>105059</td>\n",
       "    </tr>\n",
       "    <tr>\n",
       "      <th>XNA</th>\n",
       "      <td>XNA</td>\n",
       "      <td>4</td>\n",
       "    </tr>\n",
       "  </tbody>\n",
       "</table>\n",
       "</div>"
      ],
      "text/plain": [
       "    unique_name   count\n",
       "M             F  202448\n",
       "F             M  105059\n",
       "XNA         XNA       4"
      ]
     },
     "execution_count": 59,
     "metadata": {},
     "output_type": "execute_result"
    }
   ],
   "source": [
    "unique_name, count = np.unique(xf.CODE_GENDER, return_counts=True) # 閾値とそれを超える値を格納\n",
    "pd.DataFrame(list(zip(unique_name, count)), columns = ['unique_name','count'], index=dff.CODE_GENDER.unique())"
   ]
  },
  {
   "cell_type": "code",
   "execution_count": 60,
   "id": "551e6069-ff36-44c3-9cd4-b033771cc8f3",
   "metadata": {},
   "outputs": [
    {
     "data": {
      "text/html": [
       "<div>\n",
       "<style scoped>\n",
       "    .dataframe tbody tr th:only-of-type {\n",
       "        vertical-align: middle;\n",
       "    }\n",
       "\n",
       "    .dataframe tbody tr th {\n",
       "        vertical-align: top;\n",
       "    }\n",
       "\n",
       "    .dataframe thead th {\n",
       "        text-align: right;\n",
       "    }\n",
       "</style>\n",
       "<table border=\"1\" class=\"dataframe\">\n",
       "  <thead>\n",
       "    <tr style=\"text-align: right;\">\n",
       "      <th></th>\n",
       "      <th>unique_name</th>\n",
       "      <th>count</th>\n",
       "    </tr>\n",
       "  </thead>\n",
       "  <tbody>\n",
       "    <tr>\n",
       "      <th>Single / not married</th>\n",
       "      <td>Civil marriage</td>\n",
       "      <td>29775</td>\n",
       "    </tr>\n",
       "    <tr>\n",
       "      <th>Married</th>\n",
       "      <td>Married</td>\n",
       "      <td>196432</td>\n",
       "    </tr>\n",
       "    <tr>\n",
       "      <th>Civil marriage</th>\n",
       "      <td>Separated</td>\n",
       "      <td>19770</td>\n",
       "    </tr>\n",
       "    <tr>\n",
       "      <th>Widow</th>\n",
       "      <td>Single / not married</td>\n",
       "      <td>45444</td>\n",
       "    </tr>\n",
       "    <tr>\n",
       "      <th>Separated</th>\n",
       "      <td>Unknown</td>\n",
       "      <td>2</td>\n",
       "    </tr>\n",
       "    <tr>\n",
       "      <th>Unknown</th>\n",
       "      <td>Widow</td>\n",
       "      <td>16088</td>\n",
       "    </tr>\n",
       "  </tbody>\n",
       "</table>\n",
       "</div>"
      ],
      "text/plain": [
       "                               unique_name   count\n",
       "Single / not married        Civil marriage   29775\n",
       "Married                            Married  196432\n",
       "Civil marriage                   Separated   19770\n",
       "Widow                 Single / not married   45444\n",
       "Separated                          Unknown       2\n",
       "Unknown                              Widow   16088"
      ]
     },
     "execution_count": 60,
     "metadata": {},
     "output_type": "execute_result"
    }
   ],
   "source": [
    "unique_name, count = np.unique(xf.NAME_FAMILY_STATUS, return_counts=True) # 閾値とそれを超える値を格納\n",
    "pd.DataFrame(list(zip(unique_name, count)), columns = ['unique_name','count'], index=dff.NAME_FAMILY_STATUS.unique())"
   ]
  },
  {
   "cell_type": "code",
   "execution_count": 61,
   "id": "fafcaa56-31ec-4e78-8ff6-2e8724ca4872",
   "metadata": {},
   "outputs": [],
   "source": [
    "xf['CODE_GENDER'] = xf['CODE_GENDER'].map({'M' : 0, 'F' : 1, 'XNA' : 2}).astype(int) # 性別のダミー変数\n",
    "xf['NAME_FAMILY_STATUS'] = xf['NAME_FAMILY_STATUS'].map({'Civil marriage' : 0, 'Married' : 1, 'Separated' : 2, 'Single / not married' : 3, 'Widow' : 4, 'Unknown' : 5}).astype(int) # 性別のダミー変数"
   ]
  },
  {
   "cell_type": "code",
   "execution_count": 62,
   "id": "fe55dbc5-acdf-4c15-a4da-2849087ca084",
   "metadata": {},
   "outputs": [],
   "source": [
    "xf_train, xf_test = train_test_split(xf.values, random_state=0).copy()\n",
    "yf_train, yf_true = train_test_split(yf.values, random_state=0).copy()"
   ]
  },
  {
   "cell_type": "markdown",
   "id": "2bc9e61e-aae1-4daf-973e-b5fe8ee4f84f",
   "metadata": {},
   "source": [
    "### 評価"
   ]
  },
  {
   "cell_type": "code",
   "execution_count": 63,
   "id": "15861a42-ce12-49b3-a2e0-241c2b314e07",
   "metadata": {},
   "outputs": [
    {
     "name": "stdout",
     "output_type": "stream",
     "text": [
      "[[70787     0]\n",
      " [ 6091     0]]\n",
      "              precision    recall  f1-score   support\n",
      "\n",
      "           0       0.92      1.00      0.96     70787\n",
      "           1       0.00      0.00      0.00      6091\n",
      "\n",
      "    accuracy                           0.92     76878\n",
      "   macro avg       0.46      0.50      0.48     76878\n",
      "weighted avg       0.85      0.92      0.88     76878\n",
      "\n"
     ]
    },
    {
     "name": "stderr",
     "output_type": "stream",
     "text": [
      "/opt/anaconda3/lib/python3.8/site-packages/sklearn/metrics/_classification.py:1245: UndefinedMetricWarning: Precision and F-score are ill-defined and being set to 0.0 in labels with no predicted samples. Use `zero_division` parameter to control this behavior.\n",
      "  _warn_prf(average, modifier, msg_start, len(result))\n",
      "/opt/anaconda3/lib/python3.8/site-packages/sklearn/metrics/_classification.py:1245: UndefinedMetricWarning: Precision and F-score are ill-defined and being set to 0.0 in labels with no predicted samples. Use `zero_division` parameter to control this behavior.\n",
      "  _warn_prf(average, modifier, msg_start, len(result))\n",
      "/opt/anaconda3/lib/python3.8/site-packages/sklearn/metrics/_classification.py:1245: UndefinedMetricWarning: Precision and F-score are ill-defined and being set to 0.0 in labels with no predicted samples. Use `zero_division` parameter to control this behavior.\n",
      "  _warn_prf(average, modifier, msg_start, len(result))\n"
     ]
    },
    {
     "data": {
      "text/html": [
       "<div>\n",
       "<style scoped>\n",
       "    .dataframe tbody tr th:only-of-type {\n",
       "        vertical-align: middle;\n",
       "    }\n",
       "\n",
       "    .dataframe tbody tr th {\n",
       "        vertical-align: top;\n",
       "    }\n",
       "\n",
       "    .dataframe thead th {\n",
       "        text-align: right;\n",
       "    }\n",
       "</style>\n",
       "<table border=\"1\" class=\"dataframe\">\n",
       "  <thead>\n",
       "    <tr style=\"text-align: right;\">\n",
       "      <th></th>\n",
       "      <th>th_all</th>\n",
       "      <th>tpr_all</th>\n",
       "      <th>fpr_all</th>\n",
       "    </tr>\n",
       "  </thead>\n",
       "  <tbody>\n",
       "    <tr>\n",
       "      <th>0</th>\n",
       "      <td>1.255797</td>\n",
       "      <td>0.000000</td>\n",
       "      <td>0.000000</td>\n",
       "    </tr>\n",
       "    <tr>\n",
       "      <th>1</th>\n",
       "      <td>0.255797</td>\n",
       "      <td>0.000000</td>\n",
       "      <td>0.000014</td>\n",
       "    </tr>\n",
       "    <tr>\n",
       "      <th>2</th>\n",
       "      <td>0.252527</td>\n",
       "      <td>0.000000</td>\n",
       "      <td>0.000085</td>\n",
       "    </tr>\n",
       "    <tr>\n",
       "      <th>3</th>\n",
       "      <td>0.252144</td>\n",
       "      <td>0.000164</td>\n",
       "      <td>0.000085</td>\n",
       "    </tr>\n",
       "    <tr>\n",
       "      <th>4</th>\n",
       "      <td>0.251473</td>\n",
       "      <td>0.000164</td>\n",
       "      <td>0.000099</td>\n",
       "    </tr>\n",
       "    <tr>\n",
       "      <th>...</th>\n",
       "      <td>...</td>\n",
       "      <td>...</td>\n",
       "      <td>...</td>\n",
       "    </tr>\n",
       "    <tr>\n",
       "      <th>11191</th>\n",
       "      <td>0.015380</td>\n",
       "      <td>0.999672</td>\n",
       "      <td>0.999251</td>\n",
       "    </tr>\n",
       "    <tr>\n",
       "      <th>11192</th>\n",
       "      <td>0.015283</td>\n",
       "      <td>0.999836</td>\n",
       "      <td>0.999251</td>\n",
       "    </tr>\n",
       "    <tr>\n",
       "      <th>11193</th>\n",
       "      <td>0.013218</td>\n",
       "      <td>0.999836</td>\n",
       "      <td>0.999774</td>\n",
       "    </tr>\n",
       "    <tr>\n",
       "      <th>11194</th>\n",
       "      <td>0.013157</td>\n",
       "      <td>1.000000</td>\n",
       "      <td>0.999774</td>\n",
       "    </tr>\n",
       "    <tr>\n",
       "      <th>11195</th>\n",
       "      <td>0.007154</td>\n",
       "      <td>1.000000</td>\n",
       "      <td>1.000000</td>\n",
       "    </tr>\n",
       "  </tbody>\n",
       "</table>\n",
       "<p>11196 rows × 3 columns</p>\n",
       "</div>"
      ],
      "text/plain": [
       "         th_all   tpr_all   fpr_all\n",
       "0      1.255797  0.000000  0.000000\n",
       "1      0.255797  0.000000  0.000014\n",
       "2      0.252527  0.000000  0.000085\n",
       "3      0.252144  0.000164  0.000085\n",
       "4      0.251473  0.000164  0.000099\n",
       "...         ...       ...       ...\n",
       "11191  0.015380  0.999672  0.999251\n",
       "11192  0.015283  0.999836  0.999251\n",
       "11193  0.013218  0.999836  0.999774\n",
       "11194  0.013157  1.000000  0.999774\n",
       "11195  0.007154  1.000000  1.000000\n",
       "\n",
       "[11196 rows x 3 columns]"
      ]
     },
     "metadata": {},
     "output_type": "display_data"
    },
    {
     "name": "stdout",
     "output_type": "stream",
     "text": [
      "AUC : 0.5860902150285097\n"
     ]
    },
    {
     "data": {
      "image/png": "[encoded data removed]",
      "text/plain": [
       "<Figure size 432x288 with 1 Axes>"
      ]
     },
     "metadata": {
      "needs_background": "light"
     },
     "output_type": "display_data"
    }
   ],
   "source": [
    "logi_f = LogisticRegression()\n",
    "logi_f.fit(xf_train, yf_train)\n",
    "logi_f_pred = logi_f.predict(xf_test)\n",
    "logi_f_confusion = me.confusion_matrix(yf_true, logi_f_pred) \n",
    "print(logi_f_confusion)\n",
    "print(classification_report(yf_true, logi_f_pred))\n",
    "fpr_all, tpr_all, th_all  = me.roc_curve(yf_true, logi_f.predict_proba(xf_test)[:, 1], pos_label=1)# 正解ラベル１を1に設定、なのでみるべきなのは0を取る時の確率密度\n",
    "df_roc = pd.DataFrame({'th_all': th_all, 'tpr_all': tpr_all, 'fpr_all': fpr_all}) # 閾値、再現率(recall)、陰性を間違えて陽性と判断した場合\n",
    "plt.plot(fpr_all, tpr_all, marker='o')\n",
    "plt.xlabel('FPR: False positive rate')\n",
    "plt.ylabel('TPR: True positive rate')\n",
    "plt.grid()\n",
    "display(df_roc)\n",
    "print('AUC : {}'.format(roc_auc_score(yf_true, logi_f.predict_proba(xf_test)[:, 1])))"
   ]
  },
  {
   "cell_type": "markdown",
   "id": "a1af146f-ab9b-4c71-afb3-e9b84afe35ff",
   "metadata": {},
   "source": [
    "信じられないくらい精度は落ちた  \n",
    "実行時間はそこまでかからなかった.  \n",
    "外れ値の問題かサンプル時のかたより(10000も引っ張ったしそれはないと思うけど)の可能性が高い  \n",
    "過学習の可能性もある"
   ]
  },
  {
   "cell_type": "markdown",
   "id": "bf69c97c-2575-477e-874c-4854b6a9d8c7",
   "metadata": {},
   "source": [
    "## テストデータでの実行"
   ]
  },
  {
   "cell_type": "code",
   "execution_count": 73,
   "id": "dd6e77ff-4f6e-41c7-b476-d57f8a8f4264",
   "metadata": {},
   "outputs": [],
   "source": [
    "testdata = pd.read_csv('application_test.csv')\n",
    "x_testdata = testdata[['CODE_GENDER', 'NAME_FAMILY_STATUS', 'AMT_CREDIT', 'DAYS_BIRTH', 'DAYS_REGISTRATION']].copy() # データの読み込み"
   ]
  },
  {
   "cell_type": "code",
   "execution_count": 65,
   "id": "ce07d755-7091-461c-8b7c-290013526f75",
   "metadata": {},
   "outputs": [],
   "source": [
    "x_testdata['CODE_GENDER'] = x_testdata['CODE_GENDER'].map({'M' : 0, 'F' : 1, 'XNA' : 2}).astype(int) # 性別のダミー変数\n",
    "x_testdata['NAME_FAMILY_STATUS'] = x_testdata['NAME_FAMILY_STATUS'].map({'Civil marriage' : 0, 'Married' : 1, 'Separated' : 2, 'Single / not married' : 3, 'Widow' : 4, 'Unknown' : 5}).astype(int) # 性別のダミー変数"
   ]
  },
  {
   "cell_type": "code",
   "execution_count": 66,
   "id": "da8393cf-3094-4da3-8341-cee3655a2c6f",
   "metadata": {},
   "outputs": [],
   "source": [
    "logi_pred_testdata = logi_f.predict(x_testdata.values) # 結果の出力"
   ]
  },
  {
   "cell_type": "code",
   "execution_count": 67,
   "id": "7aa917bb-9cc5-425b-bff2-fef742ee474b",
   "metadata": {},
   "outputs": [
    {
     "data": {
      "text/html": [
       "<div>\n",
       "<style scoped>\n",
       "    .dataframe tbody tr th:only-of-type {\n",
       "        vertical-align: middle;\n",
       "    }\n",
       "\n",
       "    .dataframe tbody tr th {\n",
       "        vertical-align: top;\n",
       "    }\n",
       "\n",
       "    .dataframe thead th {\n",
       "        text-align: right;\n",
       "    }\n",
       "</style>\n",
       "<table border=\"1\" class=\"dataframe\">\n",
       "  <thead>\n",
       "    <tr style=\"text-align: right;\">\n",
       "      <th></th>\n",
       "      <th>unique_name</th>\n",
       "      <th>count</th>\n",
       "    </tr>\n",
       "  </thead>\n",
       "  <tbody>\n",
       "    <tr>\n",
       "      <th>0</th>\n",
       "      <td>0</td>\n",
       "      <td>48744</td>\n",
       "    </tr>\n",
       "  </tbody>\n",
       "</table>\n",
       "</div>"
      ],
      "text/plain": [
       "   unique_name  count\n",
       "0            0  48744"
      ]
     },
     "execution_count": 67,
     "metadata": {},
     "output_type": "execute_result"
    }
   ],
   "source": [
    "unique_name, count = np.unique(logi_pred_testdata, return_counts=True) # 閾値とそれを超える値を格納\n",
    "pd.DataFrame(list(zip(unique_name, count)), columns = ['unique_name','count'])"
   ]
  },
  {
   "cell_type": "markdown",
   "id": "7c53524d-7525-4315-a770-c589e70cc356",
   "metadata": {},
   "source": [
    "案の定確率で出さない限りは0で出力される。"
   ]
  },
  {
   "cell_type": "code",
   "execution_count": 68,
   "id": "85cdec4f-699a-4662-838a-681da5f60104",
   "metadata": {},
   "outputs": [],
   "source": [
    "logi_pred_proba_testdata = logi_f.predict_proba(x_testdata.values) # 確率密度での結果の出力"
   ]
  },
  {
   "cell_type": "code",
   "execution_count": 69,
   "id": "c4d799aa-561b-4133-91e1-7b8196a2ca90",
   "metadata": {},
   "outputs": [],
   "source": [
    "result = pd.DataFrame(logi_f.predict_proba(x_testdata)[:, 1], columns=['TARGET']) # dfにして保存"
   ]
  },
  {
   "cell_type": "code",
   "execution_count": 70,
   "id": "ae973925-3f05-43ba-b95e-667a8a98cae4",
   "metadata": {},
   "outputs": [],
   "source": [
    "x_testdata_id = testdata[['SK_ID_CURR']].copy() # idの列の抽出"
   ]
  },
  {
   "cell_type": "code",
   "execution_count": 71,
   "id": "dda92720-35d3-4943-91c0-ec1cb2a2d557",
   "metadata": {},
   "outputs": [],
   "source": [
    "result_1 = pd.concat([x_testdata_id, result], axis=1)\n",
    "RESULT = result_1.set_index('SK_ID_CURR') # 結合とindexの振り直し"
   ]
  },
  {
   "cell_type": "code",
   "execution_count": 74,
   "id": "7b01e6fc-14ab-461e-8e27-b39bf3f8f95c",
   "metadata": {},
   "outputs": [],
   "source": [
    "RESULT.to_csv('result.csv', index=False)"
   ]
  }
 ],
 "metadata": {
  "kernelspec": {
   "display_name": "Python 3",
   "language": "python",
   "name": "python3"
  },
  "language_info": {
   "codemirror_mode": {
    "name": "ipython",
    "version": 3
   },
   "file_extension": ".py",
   "mimetype": "text/x-python",
   "name": "python",
   "nbconvert_exporter": "python",
   "pygments_lexer": "ipython3",
   "version": "3.8.8"
  }
 },
 "nbformat": 4,
 "nbformat_minor": 5
}
